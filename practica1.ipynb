{
 "cells": [
  {
   "cell_type": "code",
   "execution_count": 1,
   "metadata": {
    "collapsed": false
   },
   "outputs": [
    {
     "name": "stdout",
     "output_type": "stream",
     "text": [
      "Simple Train: [1, 2, 3, 5, 7, 8, 11, 12, 13, 14, 16, 17, 18, 19]\nSimple Test: [0, 4, 6, 9, 10, 15]\nCruzada Train: [0, 1, 3, 4, 6, 7, 8, 9, 10, 11, 12, 13, 14, 16, 17, 18, 19]\nCruzada Test: [2, 15, 5]\nCruzada Train: [0, 1, 2, 3, 4, 5, 8, 9, 11, 12, 13, 14, 15, 16, 17, 18, 19]\nCruzada Test: [6, 7, 10]\nCruzada Train: [0, 1, 2, 3, 5, 6, 7, 9, 10, 11, 12, 14, 15, 16, 17, 18]\nCruzada Test: [4, 8, 13, 19]\nCruzada Train: [0, 1, 2, 4, 5, 6, 7, 8, 10, 12, 13, 14, 15, 16, 17, 18, 19]\nCruzada Test: [3, 11, 9]\nCruzada Train: [1, 2, 3, 4, 5, 6, 7, 8, 9, 10, 11, 12, 13, 15, 16, 17, 19]\nCruzada Test: [0, 14, 18]\nCruzada Train: [0, 2, 3, 4, 5, 6, 7, 8, 9, 10, 11, 13, 14, 15, 18, 19]\nCruzada Test: [17, 1, 16, 12]\nBoostrap Train: [2, 3, 3, 4, 5, 6, 6, 7, 10, 10, 11, 11, 12, 12, 16, 17, 18, 18, 18, 19]\nBoostrap Test: [0, 1, 8, 9, 13, 14, 15]\n"
     ]
    }
   ],
   "source": [
    "from Datos import Datos\n",
    "from ValidacionSimple import ValidacionSimple\n",
    "from ValidacionCruzada import ValidacionCruzada\n",
    "from ValidacionBootstrap import ValidacionBootstrap\n",
    "balloons = Datos('ConjuntosDatos/balloons.data')\n",
    "tic_tac_toe = Datos('ConjuntosDatos/tic-tac-toe.data')\n",
    "validacionSimple = ValidacionSimple(70)\n",
    "validacionCruzada = ValidacionCruzada(6)\n",
    "validacionBootstrap = ValidacionBootstrap()\n",
    "validacionSimple.creaParticiones(balloons.datos)\n",
    "validacionCruzada.creaParticiones(balloons.datos)\n",
    "validacionBootstrap.creaParticiones(balloons.datos)\n",
    "\n",
    "print(\"Simple\", \"Train:\", validacionSimple.particiones[0].indicesTrain)\n",
    "print(\"Simple\", \"Test:\", validacionSimple.particiones[0].indicesTest)\n",
    "# TODO: iterar para mostrar todas los folds cruzados\n",
    "for particion in validacionCruzada.particiones:\n",
    "    print(\"Cruzada\", \"Train:\", particion.indicesTrain)\n",
    "    print(\"Cruzada\", \"Test:\", particion.indicesTest)\n",
    "print(\"Boostrap\", \"Train:\", validacionBootstrap.particiones[0].indicesTrain)\n",
    "print(\"Boostrap\", \"Test:\", validacionBootstrap.particiones[0].indicesTest)\n",
    "\n",
    "# validacionBootstrap.creaParticiones(tic_tac_toe.datos)\n",
    "# validacionCruzada.creaParticiones(tic_tac_toe.datos)\n",
    "# validacionBootstrap.creaParticiones(tic_tac_toe.datos)"
   ]
  },
  {
   "cell_type": "markdown",
   "metadata": {
    "collapsed": false
   },
   "source": [
    "Comentarios sobre las particiones"
   ]
  },
  {
   "cell_type": "code",
   "execution_count": 2,
   "metadata": {
    "collapsed": false
   },
   "outputs": [
    {
     "name": "stdout",
     "output_type": "stream",
     "text": [
      "[array([False, False, False]) array([False, False, False])\n array([False, False, False, False]) array([False, False, False])\n array([False, False, False]) array([False, False, False, False])\n array([False, False, False]) array([False, False, False])\n array([False, False, False, False]) array([False, False, False])\n array([False, False, False]) array([False, False, False, False])]\n"
     ]
    }
   ],
   "source": [
    "from ClasificadorNaiveBayes import ClasificadorNaiveBayes\n",
    "clasificador = ClasificadorNaiveBayes()\n",
    "errores = clasificador.validacion(validacionCruzada, balloons, clasificador)\n",
    "print(errores)\n"
   ]
  },
  {
   "cell_type": "code",
   "execution_count": null,
   "metadata": {},
   "outputs": [],
   "source": []
  }
 ],
 "metadata": {
  "kernelspec": {
   "display_name": "Python 2",
   "language": "python",
   "name": "python2"
  },
  "language_info": {
   "codemirror_mode": {
    "name": "ipython",
    "version": 2
   },
   "file_extension": ".py",
   "mimetype": "text/x-python",
   "name": "python",
   "nbconvert_exporter": "python",
   "pygments_lexer": "ipython2",
   "version": "2.7.6"
  }
 },
 "nbformat": 4,
 "nbformat_minor": 0
}
