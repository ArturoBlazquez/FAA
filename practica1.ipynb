{
 "cells": [
  {
   "cell_type": "heading",
   "metadata": {},
   "level": 1,
   "source": [
    "Apartado 1: Particionado"
   ]
  },
  {
   "cell_type": "code",
   "execution_count": 10,
   "metadata": {
    "collapsed": false
   },
   "outputs": [
    {
     "name": "stdout",
     "output_type": "stream",
     "text": [
      "\nÍndices de Validación Simple para tic-tac-toe: \n\tTrain: [0, 1, 2, 3, 5, 7, 8, 9, 11, 12, 13, 14, 17, 19, 20, 22, 23, 24, 28, 29]...\n\tTest: [4, 6, 10, 15, 16, 18, 21, 25, 26, 27, 34, 43, 44, 49, 58, 60, 62, 65, 67, 73]...\n\nÍndices de Validación cruzada para tic-tac-toe: \n\tTrain: [0, 1, 2, 3, 4, 5, 6, 7, 10, 11, 13, 14, 16, 17, 18, 19, 21, 22, 23, 24]...\n\tTest: [8, 9, 12, 15, 20, 28, 39, 45, 56, 58, 65, 68, 70, 72, 77, 87, 90, 91, 101, 104]...\n\tTrain: [1, 2, 3, 4, 5, 7, 8, 9, 10, 11, 12, 13, 14, 15, 17, 18, 19, 20, 22, 23]...\n\tTest: [0, 6, 16, 21, 44, 47, 48, 50, 53, 73, 85, 86, 92, 105, 118, 119, 124, 126, 129, 132]...\n\tTrain: [0, 1, 2, 4, 5, 6, 8, 9, 10, 11, 12, 15, 16, 17, 18, 20, 21, 22, 23, 25]...\n\tTest: [3, 7, 13, 14, 19, 24, 30, 40, 46, 55, 74, 78, 81, 88, 94, 96, 99, 127, 133, 144]...\n\tTrain: [0, 2, 3, 4, 5, 6, 7, 8, 9, 10, 11, 12, 13, 14, 15, 16, 17, 18, 19, 20]...\n\tTest: [1, 22, 25, 27, 35, 38, 43, 49, 52, 54, 57, 62, 71, 75, 76, 79, 95, 111, 116, 117]...\n\tTrain: [0, 1, 2, 3, 6, 7, 8, 9, 10, 11, 12, 13, 14, 15, 16, 19, 20, 21, 22, 23]...\n\tTest: [4, 5, 17, 18, 31, 32, 33, 36, 41, 51, 60, 61, 63, 64, 67, 69, 83, 84, 93, 98]...\n\tTrain: [0, 1, 3, 4, 5, 6, 7, 8, 9, 12, 13, 14, 15, 16, 17, 18, 19, 20, 21, 22]...\n\tTest: [2, 10, 11, 23, 26, 29, 34, 37, 42, 59, 66, 80, 82, 89, 97, 102, 103, 114, 115, 120]...\n\nÍndices de Validación Bootstrap para tic-tac-toe: \n\tTrain: [1, 1, 1, 2, 2, 4, 6, 6, 6, 7, 8, 8, 8, 8, 8, 9, 9, 10, 10, 10]...\n\tTest: [0, 3, 5, 14, 15, 18, 20, 24, 27, 30, 33, 37, 38, 41, 43, 44, 49, 50, 52, 53]...\n\n\n\n\nÍndices de Validación Simple para balloons: \n\tTrain: [1, 3, 4, 5, 6, 7, 8, 9, 11, 12, 14, 16, 17, 18]\n\tTest: [0, 2, 10, 13, 15, 19]\n\nÍndices de Validación cruzada para balloons: \n\tTrain: [0, 1, 3, 4, 5, 9, 10, 11, 12, 13, 14, 15, 16, 17, 18, 19]\n\tTest: [2, 6, 7, 8]\n\tTrain: [2, 3, 4, 5, 6, 7, 8, 9, 10, 11, 12, 13, 15, 16, 17, 18]\n\tTest: [0, 1, 14, 19]\n\tTrain: [0, 1, 2, 4, 5, 6, 7, 8, 9, 11, 13, 14, 15, 16, 17, 18, 19]\n\tTest: [3, 10, 12]\n\tTrain: [0, 1, 2, 3, 6, 7, 8, 9, 10, 11, 12, 13, 14, 15, 16, 17, 19]\n\tTest: [4, 5, 18]\n\tTrain: [0, 1, 2, 3, 4, 5, 6, 7, 8, 10, 11, 12, 13, 14, 15, 18, 19]\n\tTest: [9, 16, 17]\n\tTrain: [0, 1, 2, 3, 4, 5, 6, 7, 8, 9, 10, 12, 14, 16, 17, 18, 19]\n\tTest: [11, 13, 15]\n\nÍndices de Validación Bootstrap para balloons: \n\tTrain: [0, 0, 4, 5, 7, 9, 9, 10, 10, 11, 12, 15, 15, 15, 16, 16, 17, 18, 18, 19]\n\tTest: [1, 2, 3, 6, 8, 13, 14]\n"
     ]
    }
   ],
   "source": [
    "from Datos import Datos\n",
    "from ValidacionBootstrap import ValidacionBootstrap\n",
    "from ValidacionCruzada import ValidacionCruzada\n",
    "from ValidacionSimple import ValidacionSimple\n",
    "\n",
    "balloons = Datos('ConjuntosDatos/balloons.data')\n",
    "tic_tac_toe = Datos('ConjuntosDatos/tic-tac-toe.data')\n",
    "\n",
    "validaciones = [ValidacionSimple(70), ValidacionCruzada(6), ValidacionBootstrap()]\n",
    "\n",
    "for val in validaciones:\n",
    "    val.creaParticiones(tic_tac_toe.datos)\n",
    "    \n",
    "    print(\"\\nÍndices de \", val.nombre_estrategia, \" para tic-tac-toe: \", sep='')\n",
    "    for particion in val.particiones:\n",
    "        print(\"\\tTrain: \", sorted(particion.indicesTrain)[:20], \"...\", sep='')\n",
    "        print(\"\\tTest: \", sorted(particion.indicesTest)[:20], \"...\", sep='')\n",
    "\n",
    "print(\"\\n\\n\")\n",
    "for val in validaciones:\n",
    "    val.creaParticiones(balloons.datos)\n",
    "    \n",
    "    print(\"\\nÍndices de \", val.nombre_estrategia, \" para balloons: \", sep='')\n",
    "    for particion in val.particiones:\n",
    "        print(\"\\tTrain: \", sorted(particion.indicesTrain), sep='')\n",
    "        print(\"\\tTest: \", sorted(particion.indicesTest), sep='')\n"
   ]
  },
  {
   "cell_type": "markdown",
   "metadata": {},
   "source": [
    "## Descripcción de los índices de train y test\n",
    "\n",
    "Hemos imprimido los índices ordenados para que sean más fáciles de analizar a simple vista.\n",
    "\n",
    "Vemos que para validación simple, cogemos todos los índices y aleatoriamente tomamos un porcentaje para test y el resto son de test.\n",
    "\n",
    "Para validación cruzados vemos cómo se crean las 6 particiones (folds) que hemos especificado, y que en cada una de las particiones los índices de test son diferentes hasta completar todos los índices. Los índices de train de cada partición son los que no hemos tomado para test.\n",
    "\n",
    "En validación por Bootstrap tomamos como train tantos índices aleatorios como datos haya, permitiendo que haya repeticiones, y los datos de test son aquellos índices que no hemos cogido.\n",
    "\n",
    "\n",
    "## Ventajas/desventajas de cada una de las validaciones"
   ]
  },
  {
   "cell_type": "heading",
   "metadata": {},
   "level": 1,
   "source": [
    "Apartado 2: Naive-Bayes"
   ]
  },
  {
   "cell_type": "code",
   "execution_count": 11,
   "metadata": {
    "collapsed": false
   },
   "outputs": [
    {
     "name": "stdout",
     "output_type": "stream",
     "text": [
      "Sin corrección de Laplace\n\tTasa de error de tic-tac-toe: 0.3058455114822547\n\tDesviación típica del error de tic-tac-toe: 0.46076461950589553\n"
     ]
    },
    {
     "name": "stdout",
     "output_type": "stream",
     "text": [
      "\n\tTasa de error de german: 0.25\n\tDesviación típica del error de german: 0.4330127018922193\n\n\nCon corrección de Laplace\n"
     ]
    },
    {
     "name": "stdout",
     "output_type": "stream",
     "text": [
      "\tTasa de error de tic-tac-toe: 0.2954070981210856\n\tDesviación típica del error de tic-tac-toe: 0.4562255412630521\n\n\tTasa de error de german: 0.254\n\tDesviación típica del error de german: 0.4352975993501457\n"
     ]
    }
   ],
   "source": [
    "import numpy as np\n",
    "\n",
    "from ClasificadorNaiveBayes import ClasificadorNaiveBayes\n",
    "\n",
    "german = Datos('ConjuntosDatos/german.data')\n",
    "clasificador = ClasificadorNaiveBayes()\n",
    "validacion_cruzada = ValidacionCruzada(6)\n",
    "\n",
    "print(\"Sin corrección de Laplace\")\n",
    "errores, tasa_de_error = clasificador.validacion(validacion_cruzada, tic_tac_toe, clasificador,\n",
    "                                                 aplicar_correccion_de_laplace=False)\n",
    "print(\"\\tTasa de error de tic-tac-toe:\", tasa_de_error)\n",
    "print(\"\\tDesviación típica del error de tic-tac-toe:\", np.std(errores))\n",
    "\n",
    "errores, tasa_de_error = clasificador.validacion(validacion_cruzada, german, clasificador,\n",
    "                                                 aplicar_correccion_de_laplace=False)\n",
    "print(\"\\n\\tTasa de error de german:\", tasa_de_error)\n",
    "print(\"\\tDesviación típica del error de german:\", np.std(errores))\n",
    "\n",
    "print(\"\\n\\nCon corrección de Laplace\")\n",
    "errores, tasa_de_error = clasificador.validacion(validacion_cruzada, tic_tac_toe, clasificador)\n",
    "print(\"\\tTasa de error de tic-tac-toe:\", tasa_de_error)\n",
    "print(\"\\tDesviación típica del error de tic-tac-toe:\", np.std(errores))\n",
    "\n",
    "errores, tasa_de_error = clasificador.validacion(validacion_cruzada, german, clasificador)\n",
    "print(\"\\n\\tTasa de error de german:\", tasa_de_error)\n",
    "print(\"\\tDesviación típica del error de german:\", np.std(errores))\n"
   ]
  },
  {
   "cell_type": "markdown",
   "metadata": {},
   "source": [
    "## Análisis de los resultados"
   ]
  },
  {
   "cell_type": "heading",
   "metadata": {},
   "level": 1,
   "source": [
    "Apartado 3: Scikit-Learn"
   ]
  },
  {
   "cell_type": "code",
   "execution_count": 12,
   "metadata": {},
   "outputs": [],
   "source": []
  }
 ],
 "metadata": {
  "kernelspec": {
   "display_name": "Python 2",
   "language": "python",
   "name": "python2"
  },
  "language_info": {
   "codemirror_mode": {
    "name": "ipython",
    "version": 2
   },
   "file_extension": ".py",
   "mimetype": "text/x-python",
   "name": "python",
   "nbconvert_exporter": "python",
   "pygments_lexer": "ipython2",
   "version": "2.7.6"
  }
 },
 "nbformat": 4,
 "nbformat_minor": 0
}
