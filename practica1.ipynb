{
 "cells": [
  {
   "cell_type": "heading",
   "metadata": {},
   "level": 1,
   "source": [
    "Apartado 1: Particionado"
   ]
  },
  {
   "cell_type": "code",
   "execution_count": 63,
   "metadata": {
    "collapsed": false
   },
   "outputs": [
    {
     "name": "stdout",
     "output_type": "stream",
     "text": [
      "\nÍndices de Validación Simple para tic-tac-toe: \n\tTrain: [3, 4, 8, 9, 10, 14, 15, 18, 21, 22, 23, 24, 25, 26, 29, 30, 31, 32, 33, 36]...\n\tTest: [0, 1, 2, 5, 6, 7, 11, 12, 13, 16, 17, 19, 20, 27, 28, 34, 35, 51, 54, 60]...\n\nÍndices de Validación cruzada para tic-tac-toe: \n\tTrain: [0, 1, 2, 3, 4, 5, 6, 7, 8, 9, 10, 11, 12, 13, 14, 15, 16, 17, 18, 21]...\n\tTest: [19, 20, 32, 34, 37, 38, 42, 54, 56, 67, 75, 78, 90, 91, 99, 114, 115, 122, 124, 129]...\n\tTrain: [0, 1, 2, 3, 4, 5, 7, 8, 9, 10, 12, 13, 17, 18, 19, 20, 21, 22, 23, 25]...\n\tTest: [6, 11, 14, 15, 16, 24, 26, 30, 45, 52, 57, 58, 59, 60, 61, 65, 79, 83, 102, 103]...\n\tTrain: [0, 4, 5, 6, 7, 9, 10, 11, 12, 13, 14, 15, 16, 17, 19, 20, 21, 22, 24, 26]...\n\tTest: [1, 2, 3, 8, 18, 23, 25, 31, 40, 43, 49, 50, 64, 72, 76, 94, 95, 98, 100, 112]...\n\tTrain: [0, 1, 2, 3, 5, 6, 8, 11, 12, 13, 14, 15, 16, 18, 19, 20, 22, 23, 24, 25]...\n\tTest: [4, 7, 9, 10, 17, 21, 27, 39, 47, 48, 51, 53, 63, 71, 74, 85, 88, 92, 93, 96]...\n\tTrain: [1, 2, 3, 4, 6, 7, 8, 9, 10, 11, 12, 14, 15, 16, 17, 18, 19, 20, 21, 23]...\n\tTest: [0, 5, 13, 22, 28, 29, 36, 41, 55, 68, 70, 73, 77, 80, 84, 106, 113, 116, 131, 147]...\n\tTrain: [0, 1, 2, 3, 4, 5, 6, 7, 8, 9, 10, 11, 13, 14, 15, 16, 17, 18, 19, 20]...\n\tTest: [12, 33, 35, 44, 46, 62, 66, 69, 81, 82, 86, 87, 89, 105, 121, 128, 132, 137, 139, 140]...\n\nÍndices de Validación Bootstrap para tic-tac-toe: \n\tTrain: [0, 1, 2, 3, 4, 4, 5, 6, 7, 7, 9, 10, 10, 11, 12, 13, 16, 16, 18, 18]...\n\tTest: [8, 14, 15, 17, 21, 25, 26, 30, 33, 35, 38, 41, 43, 44, 57, 61, 65, 72, 75, 77]...\n\n\n\n\nÍndices de Validación Simple para balloons: \n\tTrain: [0, 2, 4, 6, 8, 10, 11, 12, 13, 14, 15, 16, 17, 19]\n\tTest: [1, 3, 5, 7, 9, 18]\n\nÍndices de Validación cruzada para balloons: \n\tTrain: [0, 1, 2, 3, 4, 5, 7, 9, 11, 12, 14, 15, 16, 17, 18, 19]\n\tTest: [6, 8, 10, 13]\n\tTrain: [0, 1, 3, 5, 6, 7, 8, 9, 10, 11, 13, 14, 15, 16, 17, 19]\n\tTest: [2, 4, 12, 18]\n\tTrain: [1, 2, 3, 4, 5, 6, 8, 10, 11, 12, 13, 14, 15, 16, 17, 18, 19]\n\tTest: [0, 7, 9]\n\tTrain: [0, 1, 2, 4, 5, 6, 7, 8, 9, 10, 11, 12, 13, 15, 17, 18, 19]\n\tTest: [3, 14, 16]\n\tTrain: [0, 1, 2, 3, 4, 6, 7, 8, 9, 10, 11, 12, 13, 14, 16, 18, 19]\n\tTest: [5, 15, 17]\n\tTrain: [0, 2, 3, 4, 5, 6, 7, 8, 9, 10, 12, 13, 14, 15, 16, 17, 18]\n\tTest: [1, 11, 19]\n\nÍndices de Validación Bootstrap para balloons: \n\tTrain: [0, 1, 2, 2, 2, 4, 5, 5, 5, 7, 7, 8, 9, 10, 10, 14, 16, 18, 18, 19]\n\tTest: [3, 6, 11, 12, 13, 15, 17]\n"
     ]
    }
   ],
   "source": [
    "from Datos import Datos\n",
    "from ValidacionBootstrap import ValidacionBootstrap\n",
    "from ValidacionCruzada import ValidacionCruzada\n",
    "from ValidacionSimple import ValidacionSimple\n",
    "\n",
    "balloons = Datos('ConjuntosDatos/balloons.data')\n",
    "tic_tac_toe = Datos('ConjuntosDatos/tic-tac-toe.data')\n",
    "\n",
    "validaciones = [ValidacionSimple(70), ValidacionCruzada(6), ValidacionBootstrap()]\n",
    "\n",
    "for val in validaciones:\n",
    "    val.creaParticiones(tic_tac_toe.datos)\n",
    "    \n",
    "    print(\"\\nÍndices de \", val.nombre_estrategia, \" para tic-tac-toe: \", sep='')\n",
    "    for particion in val.particiones:\n",
    "        print(\"\\tTrain: \", sorted(particion.indicesTrain)[:20], \"...\", sep='')\n",
    "        print(\"\\tTest: \", sorted(particion.indicesTest)[:20], \"...\", sep='')\n",
    "\n",
    "print(\"\\n\\n\")\n",
    "for val in validaciones:\n",
    "    val.creaParticiones(balloons.datos)\n",
    "    \n",
    "    print(\"\\nÍndices de \", val.nombre_estrategia, \" para balloons: \", sep='')\n",
    "    for particion in val.particiones:\n",
    "        print(\"\\tTrain: \", sorted(particion.indicesTrain), sep='')\n",
    "        print(\"\\tTest: \", sorted(particion.indicesTest), sep='')\n"
   ]
  },
  {
   "cell_type": "markdown",
   "metadata": {},
   "source": [
    "## Descripcción de los índices de train y test\n",
    "\n",
    "Hemos imprimido los índices ordenados para que sean más fáciles de analizar a simple vista.\n",
    "\n",
    "Vemos que para validación simple, cogemos todos los índices y aleatoriamente tomamos un porcentaje para test y el resto son de test.\n",
    "\n",
    "Para validación cruzados vemos cómo se crean las 6 particiones (folds) que hemos especificado, y que en cada una de las particiones los índices de test son diferentes hasta completar todos los índices. Los índices de train de cada partición son los que no hemos tomado para test.\n",
    "\n",
    "En validación por Bootstrap tomamos como train tantos índices aleatorios como datos haya, permitiendo que haya repeticiones, y los datos de test son aquellos índices que no hemos cogido.\n",
    "\n",
    "\n",
    "## Ventajas/desventajas de cada una de las validaciones\n",
    "\n",
    "Validación simple es claramente el más fácil de entender e implementar y si se dividen los datos aleatoriamente funciona bien.\n",
    "\n",
    "Validación cruzada al hacer más particiones dará una tasa de fallos más realista, pero a costa de tener que realizar múltiples veces el proceso de entrenamiento, haciendo que el tiempo de validación aumente proporcionalmente al número de folds.\n",
    "\n",
    "El principal inconveniente de Bootstrap es que elegimos para train varias veces los mismos ejemplos, haciendo que la tasa de error esté subestimada."
   ]
  },
  {
   "cell_type": "heading",
   "metadata": {},
   "level": 1,
   "source": [
    "Apartado 2: Naive-Bayes"
   ]
  },
  {
   "cell_type": "code",
   "execution_count": 80,
   "metadata": {
    "collapsed": true
   },
   "outputs": [
    {
     "name": "stdout",
     "output_type": "stream",
     "text": [
      "\n\n Validación Simple sin corrección de Laplace:\n\t                               tasa de error                  desviación típica del error   \n\tballoons                       0.000000                       0.000000                      \n\ttic-tac-toe                    0.305556                       0.460642                      \n\tgerman                         0.290000                       0.453762                      \n\n Validación Simple con corrección de Laplace:\n\t                               tasa de error                  desviación típica del error   \n\tballoons                       0.000000                       0.000000                      \n\ttic-tac-toe                    0.312500                       0.463512                      \n\tgerman                         0.253333                       0.434920                      \n\n\n Validación cruzada sin corrección de Laplace:\n\t                               tasa de error                  desviación típica del error   \n\tballoons                       0.000000                       0.000000                      \n\ttic-tac-toe                    0.300626                       0.458530                      \n"
     ]
    },
    {
     "name": "stdout",
     "output_type": "stream",
     "text": [
      "\tgerman                         0.255000                       0.435861                      \n\n Validación cruzada con corrección de Laplace:\n\t                               tasa de error                  desviación típica del error   \n\tballoons                       0.000000                       0.000000                      \n\ttic-tac-toe                    0.297495                       0.457156                      \n\tgerman                         0.250000                       0.433013                      \n\n\n Validación Bootstrap sin corrección de Laplace:\n\t                               tasa de error                  desviación típica del error   \n\tballoons                       0.000000                       0.000000                      \n\ttic-tac-toe                    0.318681                       0.465965                      \n"
     ]
    },
    {
     "name": "stdout",
     "output_type": "stream",
     "text": [
      "\tgerman                         0.210526                       0.407682                      \n\n Validación Bootstrap con corrección de Laplace:\n\t                               tasa de error                  desviación típica del error   \n\tballoons                       0.000000                       0.000000                      \n\ttic-tac-toe                    0.309192                       0.462161                      \n\tgerman                         0.249315                       0.432617                      \n"
     ]
    }
   ],
   "source": [
    "import numpy as np\n",
    "\n",
    "from ClasificadorNaiveBayes import ClasificadorNaiveBayes\n",
    "\n",
    "german = Datos('ConjuntosDatos/german.data')\n",
    "nb = ClasificadorNaiveBayes()\n",
    "\n",
    "for val in validaciones:\n",
    "    format_header = \"\\t%-30s %-30s %-30s\"\n",
    "    format_cell = \"\\t%-30s %-30f %-30f\"\n",
    "    \n",
    "    print(\"\\n\\n\", val.nombre_estrategia, \"sin corrección de Laplace:\")\n",
    "    print(format_header % (\"\", \"tasa de error\", \"desviación típica del error\"))\n",
    "    \n",
    "    errores, tasa_de_error = nb.validacion(val, balloons, nb, aplicar_correccion_de_laplace=False)\n",
    "    print(format_cell % (\"balloons\", tasa_de_error, np.std(errores)))\n",
    "    \n",
    "    errores, tasa_de_error = nb.validacion(val, tic_tac_toe, nb, aplicar_correccion_de_laplace=False)\n",
    "    print(format_cell % (\"tic-tac-toe\", tasa_de_error, np.std(errores)))\n",
    "    \n",
    "    errores, tasa_de_error = nb.validacion(val, german, nb, aplicar_correccion_de_laplace=False)\n",
    "    print(format_cell % (\"german\", tasa_de_error, np.std(errores)))\n",
    "    \n",
    "    \n",
    "    print(\"\\n\", val.nombre_estrategia, \"con corrección de Laplace:\")\n",
    "    print(format_header % (\"\", \"tasa de error\", \"desviación típica del error\"))\n",
    "    \n",
    "    errores, tasa_de_error = nb.validacion(val, balloons, nb)\n",
    "    print(format_cell % (\"balloons\", tasa_de_error, np.std(errores)))\n",
    "    \n",
    "    errores, tasa_de_error = nb.validacion(val, tic_tac_toe, nb)\n",
    "    print(format_cell % (\"tic-tac-toe\", tasa_de_error, np.std(errores)))\n",
    "    \n",
    "    errores, tasa_de_error = nb.validacion(val, german, nb)\n",
    "    print(format_cell % (\"german\", tasa_de_error, np.std(errores)))\n"
   ]
  },
  {
   "cell_type": "markdown",
   "metadata": {},
   "source": [
    "## Análisis de los resultados\n",
    "\n",
    "Vemos que para balloons la tasa de fallos es muy baja o nula. Esto es debido a que el número de datos es muy pequeño.\n",
    "\n",
    "Para tic-tac-toe y German vemos que con validación simple al aplicar la corrección de Laplace la tasa de aciertos mejora, mientras que para validación cruzada permanece prácticamente igual y para bootstrap empeora.\n",
    "\n",
    "En tic-tac-toe vemos que el porcentaje de errores para cualquiera de las validaciones está en torno a un 30%\n",
    "\n",
    "En los datos de German el porcentaje de errores es ligeramente menor, estando en torno a un 25%"
   ]
  },
  {
   "cell_type": "heading",
   "metadata": {},
   "level": 1,
   "source": [
    "Apartado 3: Scikit-Learn"
   ]
  },
  {
   "cell_type": "code",
   "execution_count": 65,
   "metadata": {},
   "outputs": [],
   "source": []
  }
 ],
 "metadata": {
  "kernelspec": {
   "display_name": "Python 2",
   "language": "python",
   "name": "python2"
  },
  "language_info": {
   "codemirror_mode": {
    "name": "ipython",
    "version": 2
   },
   "file_extension": ".py",
   "mimetype": "text/x-python",
   "name": "python",
   "nbconvert_exporter": "python",
   "pygments_lexer": "ipython2",
   "version": "2.7.6"
  }
 },
 "nbformat": 4,
 "nbformat_minor": 0
}
