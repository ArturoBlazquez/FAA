{
 "cells": [
  {
   "cell_type": "markdown",
   "metadata": {},
   "source": [
    "# Apartado 1"
   ]
  },
  {
   "cell_type": "markdown",
   "metadata": {},
   "source": [
    "## Justificación de diseño\n",
    "\n",
    "Los métodos `calcularMediasDesv()` y `normalizarDatos()` los hemos implementado dentro de la clase `ClasificadorVecinosProximos`, ya sólo los llamamos en este clasificador y eso nos permite hacer unos métodos más sencillos.\n",
    "\n",
    "\n",
    "## Ejecución\n",
    "\n",
    "Vamos a ver ahora los resultados del clasificador KNN para los diferentes conjuntos de datos y para diferentes valores de k.\n",
    "Hemos usado validación simple con un 70% de train, ya que usar una más compleja no nos aporta ninguna mejora considerable y no es el objetivo de esta práctica.\n",
    "\n",
    "Vamos a ejecutar primero KNN sin normalizar los datos y luego normalizando datos:"
   ]
  },
  {
   "cell_type": "code",
   "execution_count": 17,
   "metadata": {},
   "outputs": [
    {
     "name": "stdout",
     "output_type": "stream",
     "text": [
      "Sin normalizar datos en knn:\n",
      "\n",
      "example1:\n",
      "\tTasa de error k=1:\t\t0.175\n",
      "\tTasa de error k=3:\t\t0.15833333333333333\n",
      "\tTasa de error k=5:\t\t0.16666666666666666\n",
      "\tTasa de error k=11:\t\t0.175\n",
      "\tTasa de error k=21:\t\t0.125\n",
      "\tTasa de error k=51:\t\t0.15833333333333333\n",
      "example2:\n",
      "\tTasa de error k=1:\t\t0.0\n",
      "\tTasa de error k=3:\t\t0.0\n",
      "\tTasa de error k=5:\t\t0.0\n",
      "\tTasa de error k=11:\t\t0.0\n",
      "\tTasa de error k=21:\t\t0.0\n",
      "\tTasa de error k=51:\t\t0.0\n",
      "example3:\n",
      "\tTasa de error k=1:\t\t0.03333333333333333\n",
      "\tTasa de error k=3:\t\t0.06666666666666667\n",
      "\tTasa de error k=5:\t\t0.03333333333333333\n",
      "\tTasa de error k=11:\t\t0.03333333333333333\n",
      "\tTasa de error k=21:\t\t0.041666666666666664\n",
      "\tTasa de error k=51:\t\t0.06666666666666667\n",
      "example4:\n",
      "\tTasa de error k=1:\t\t0.03333333333333333\n",
      "\tTasa de error k=3:\t\t0.06666666666666667\n",
      "\tTasa de error k=5:\t\t0.13333333333333333\n",
      "\tTasa de error k=11:\t\t0.23333333333333334\n",
      "\tTasa de error k=21:\t\t0.3333333333333333\n",
      "\tTasa de error k=51:\t\t0.6333333333333333\n",
      "wdbc:\n",
      "\tTasa de error k=1:\t\t0.07017543859649122\n",
      "\tTasa de error k=3:\t\t0.06432748538011696\n",
      "\tTasa de error k=5:\t\t0.07017543859649122\n",
      "\tTasa de error k=11:\t\t0.08187134502923976\n",
      "\tTasa de error k=21:\t\t0.03508771929824561\n",
      "\tTasa de error k=51:\t\t0.08771929824561403\n",
      "\n",
      "Tiempo de ejecución sin normalizar: 8.86775655800011\n"
     ]
    }
   ],
   "source": [
    "from ClasificadorVecinosProximos import ClasificadorVecinosProximos\n",
    "from Datos import Datos\n",
    "from ValidacionSimple import ValidacionSimple\n",
    "from timeit import default_timer as timer\n",
    "\n",
    "start = timer()\n",
    "\n",
    "conjuntos_de_datos = ['example1', 'example2', 'example3', 'example4', 'wdbc']\n",
    "\n",
    "val = ValidacionSimple(70)\n",
    "\n",
    "valores_de_k = [1, 3, 5, 11, 21, 51]\n",
    "\n",
    "print(\"Sin normalizar datos en knn:\\n\")\n",
    "for nombre_fichero in conjuntos_de_datos:\n",
    "    datos = Datos('ConjuntosDatos/' + nombre_fichero + '.data')\n",
    "    val.creaParticiones(datos.datos)\n",
    "    \n",
    "    print(nombre_fichero, \":\", sep='')\n",
    "    for k in valores_de_k:\n",
    "        knn = ClasificadorVecinosProximos(k)\n",
    "        \n",
    "        errores, tasa_de_error = knn.validacion(val, datos, knn, normalizar_datos=False)\n",
    "        \n",
    "        print(\"\\tTasa de error k=\", k, \":\\t\\t\", tasa_de_error, sep='')\n",
    "\n",
    "end = timer()\n",
    "print(\"\\nTiempo de ejecución sin normalizar:\", end - start)"
   ]
  },
  {
   "cell_type": "code",
   "execution_count": 18,
   "metadata": {},
   "outputs": [
    {
     "name": "stdout",
     "output_type": "stream",
     "text": [
      "Normalizando datos en knn:\n",
      "\n",
      "example1:\n",
      "\tTasa de error k=1:\t\t0.20833333333333334\n",
      "\tTasa de error k=3:\t\t0.15\n",
      "\tTasa de error k=5:\t\t0.11666666666666667\n",
      "\tTasa de error k=11:\t\t0.16666666666666666\n",
      "\tTasa de error k=21:\t\t0.09166666666666666\n",
      "\tTasa de error k=51:\t\t0.08333333333333333\n",
      "example2:\n",
      "\tTasa de error k=1:\t\t0.0\n",
      "\tTasa de error k=3:\t\t0.0\n",
      "\tTasa de error k=5:\t\t0.0\n",
      "\tTasa de error k=11:\t\t0.0\n",
      "\tTasa de error k=21:\t\t0.0\n",
      "\tTasa de error k=51:\t\t0.0\n",
      "example3:\n",
      "\tTasa de error k=1:\t\t0.016666666666666666\n",
      "\tTasa de error k=3:\t\t0.058333333333333334\n",
      "\tTasa de error k=5:\t\t0.008333333333333333\n",
      "\tTasa de error k=11:\t\t0.016666666666666666\n",
      "\tTasa de error k=21:\t\t0.025\n",
      "\tTasa de error k=51:\t\t0.03333333333333333\n",
      "example4:\n",
      "\tTasa de error k=1:\t\t0.0\n",
      "\tTasa de error k=3:\t\t0.0\n",
      "\tTasa de error k=5:\t\t0.0\n",
      "\tTasa de error k=11:\t\t0.0\n",
      "\tTasa de error k=21:\t\t0.0\n",
      "\tTasa de error k=51:\t\t0.0\n",
      "wdbc:\n",
      "\tTasa de error k=1:\t\t0.023391812865497075\n",
      "\tTasa de error k=3:\t\t0.04093567251461988\n",
      "\tTasa de error k=5:\t\t0.04093567251461988\n",
      "\tTasa de error k=11:\t\t0.029239766081871343\n",
      "\tTasa de error k=21:\t\t0.04093567251461988\n",
      "\tTasa de error k=51:\t\t0.06432748538011696\n",
      "\n",
      "Tiempo de ejecución sin normalizar: 8.961747435001598\n"
     ]
    }
   ],
   "source": [
    "from ClasificadorVecinosProximos import ClasificadorVecinosProximos\n",
    "from Datos import Datos\n",
    "from ValidacionSimple import ValidacionSimple\n",
    "from timeit import default_timer as timer\n",
    "\n",
    "start = timer()\n",
    "\n",
    "conjuntos_de_datos = ['example1', 'example2', 'example3', 'example4', 'wdbc']\n",
    "\n",
    "val = ValidacionSimple(70)\n",
    "\n",
    "valores_de_k = [1, 3, 5, 11, 21, 51]\n",
    "\n",
    "print(\"Normalizando datos en knn:\\n\")\n",
    "for nombre_fichero in conjuntos_de_datos:\n",
    "    datos = Datos('ConjuntosDatos/' + nombre_fichero + '.data')\n",
    "    val.creaParticiones(datos.datos)\n",
    "    \n",
    "    print(nombre_fichero, \":\", sep='')\n",
    "    for k in valores_de_k:\n",
    "        knn = ClasificadorVecinosProximos(k)\n",
    "        \n",
    "        errores, tasa_de_error = knn.validacion(val, datos, knn, normalizar_datos=True)\n",
    "        \n",
    "        print(\"\\tTasa de error k=\", k, \":\\t\\t\", tasa_de_error, sep='')\n",
    "\n",
    "end = timer()\n",
    "print(\"\\nTiempo de ejecución sin normalizar:\", end - start)"
   ]
  },
  {
   "cell_type": "markdown",
   "metadata": {},
   "source": [
    "Vemos que la diferencia de tiempos de ejecución entre KNN sin normalizar datos y normalizando datos es muy pequeña, mientras que la tasa de errores normalizando datos se reduce mucho.\n",
    "\n",
    "Vemos tambien que aumentar el valor de k por encima de 11 no nos da grandes diferencias en la clasificación.\n",
    "\n",
    "Llama mucho la atención que en example2 y example4 la tasa de error es 0. Esto podría parecer que es porque KNN está sobreajustando, pero en realidad, si analizamos los conjuntos de datos, vemos que es porque los conjuntos son muy sencillos.\n",
    "En example2 los puntos se concentran en 4 posiciones y siempre con la misma clasificación y en example4 los datos siguen dos líneas rectas, cada una con una clasificación. Esto se puede ver fácilmente en las gráficas del apartado 3.\n"
   ]
  },
  {
   "cell_type": "markdown",
   "metadata": {},
   "source": [
    "# Apartado 2"
   ]
  },
  {
   "cell_type": "markdown",
   "metadata": {},
   "source": [
    "En este apartado vamos a probar regresión logística con cada uno de los conjuntos de datos y con diferentes valores para nepocas y para la constante de aprendizaje."
   ]
  },
  {
   "cell_type": "code",
   "execution_count": 7,
   "metadata": {},
   "outputs": [
    {
     "name": "stdout",
     "output_type": "stream",
     "text": [
      "example1:\n",
      "\tTasa de error const=0.4, nepocas=1:\t\t0.55\n",
      "\tTasa de error const=0.4, nepocas=5:\t\t0.4583333333333333\n",
      "\tTasa de error const=0.4, nepocas=10:\t\t0.55\n",
      "\tTasa de error const=0.4, nepocas=100:\t\t0.55\n",
      "\tTasa de error const=0.6, nepocas=1:\t\t0.475\n",
      "\tTasa de error const=0.6, nepocas=5:\t\t0.4583333333333333\n",
      "\tTasa de error const=0.6, nepocas=10:\t\t0.44166666666666665\n",
      "\tTasa de error const=0.6, nepocas=100:\t\t0.5166666666666667\n",
      "\tTasa de error const=0.8, nepocas=1:\t\t0.4583333333333333\n",
      "\tTasa de error const=0.8, nepocas=5:\t\t0.5\n",
      "\tTasa de error const=0.8, nepocas=10:\t\t0.4583333333333333\n",
      "\tTasa de error const=0.8, nepocas=100:\t\t0.5166666666666667\n",
      "\tTasa de error const=1, nepocas=1:\t\t0.5333333333333333\n",
      "\tTasa de error const=1, nepocas=5:\t\t0.5083333333333333\n",
      "\tTasa de error const=1, nepocas=10:\t\t0.43333333333333335\n",
      "\tTasa de error const=1, nepocas=100:\t\t0.575\n",
      "example2:\n",
      "\tTasa de error const=0.4, nepocas=1:\t\t0.5083333333333333\n",
      "\tTasa de error const=0.4, nepocas=5:\t\t0.2833333333333333\n",
      "\tTasa de error const=0.4, nepocas=10:\t\t0.4666666666666667\n",
      "\tTasa de error const=0.4, nepocas=100:\t\t0.5083333333333333\n",
      "\tTasa de error const=0.6, nepocas=1:\t\t0.44166666666666665\n",
      "\tTasa de error const=0.6, nepocas=5:\t\t0.4583333333333333\n",
      "\tTasa de error const=0.6, nepocas=10:\t\t0.475\n",
      "\tTasa de error const=0.6, nepocas=100:\t\t0.525\n",
      "\tTasa de error const=0.8, nepocas=1:\t\t0.49166666666666664\n",
      "\tTasa de error const=0.8, nepocas=5:\t\t0.45\n",
      "\tTasa de error const=0.8, nepocas=10:\t\t0.7583333333333333\n",
      "\tTasa de error const=0.8, nepocas=100:\t\t0.5333333333333333\n",
      "\tTasa de error const=1, nepocas=1:\t\t0.55\n",
      "\tTasa de error const=1, nepocas=5:\t\t0.5666666666666667\n",
      "\tTasa de error const=1, nepocas=10:\t\t0.6\n",
      "\tTasa de error const=1, nepocas=100:\t\t0.8\n",
      "example3:\n",
      "\tTasa de error const=0.4, nepocas=1:\t\t0.5\n",
      "\tTasa de error const=0.4, nepocas=5:\t\t0.48333333333333334\n",
      "\tTasa de error const=0.4, nepocas=10:\t\t0.49166666666666664\n",
      "\tTasa de error const=0.4, nepocas=100:\t\t0.5166666666666667\n",
      "\tTasa de error const=0.6, nepocas=1:\t\t0.4\n",
      "\tTasa de error const=0.6, nepocas=5:\t\t0.5\n",
      "\tTasa de error const=0.6, nepocas=10:\t\t0.5333333333333333\n",
      "\tTasa de error const=0.6, nepocas=100:\t\t0.425\n",
      "\tTasa de error const=0.8, nepocas=1:\t\t0.48333333333333334\n",
      "\tTasa de error const=0.8, nepocas=5:\t\t0.475\n",
      "\tTasa de error const=0.8, nepocas=10:\t\t0.48333333333333334\n",
      "\tTasa de error const=0.8, nepocas=100:\t\t0.4666666666666667\n",
      "\tTasa de error const=1, nepocas=1:\t\t0.525\n",
      "\tTasa de error const=1, nepocas=5:\t\t0.5666666666666667\n",
      "\tTasa de error const=1, nepocas=10:\t\t0.525\n",
      "\tTasa de error const=1, nepocas=100:\t\t0.5083333333333333\n",
      "example4:\n",
      "\tTasa de error const=0.4, nepocas=1:\t\t0.03333333333333333\n",
      "\tTasa de error const=0.4, nepocas=5:\t\t0.0\n",
      "\tTasa de error const=0.4, nepocas=10:\t\t0.0\n",
      "\tTasa de error const=0.4, nepocas=100:\t\t0.0\n",
      "\tTasa de error const=0.6, nepocas=1:\t\t0.0\n",
      "\tTasa de error const=0.6, nepocas=5:\t\t0.0\n",
      "\tTasa de error const=0.6, nepocas=10:\t\t0.0\n",
      "\tTasa de error const=0.6, nepocas=100:\t\t0.0\n",
      "\tTasa de error const=0.8, nepocas=1:\t\t0.3\n",
      "\tTasa de error const=0.8, nepocas=5:\t\t0.0\n",
      "\tTasa de error const=0.8, nepocas=10:\t\t0.0\n",
      "\tTasa de error const=0.8, nepocas=100:\t\t0.0\n",
      "\tTasa de error const=1, nepocas=1:\t\t0.2\n",
      "\tTasa de error const=1, nepocas=5:\t\t0.0\n",
      "\tTasa de error const=1, nepocas=10:\t\t0.0\n",
      "\tTasa de error const=1, nepocas=100:\t\t0.0\n",
      "wdbc:\n",
      "\tTasa de error const=0.4, nepocas=1:\t\t0.08187134502923976\n",
      "\tTasa de error const=0.4, nepocas=5:\t\t0.24561403508771928\n",
      "\tTasa de error const=0.4, nepocas=10:\t\t0.1286549707602339\n",
      "\tTasa de error const=0.4, nepocas=100:\t\t0.07017543859649122\n",
      "\tTasa de error const=0.6, nepocas=1:\t\t0.2222222222222222\n",
      "\tTasa de error const=0.6, nepocas=5:\t\t0.09941520467836257\n",
      "\tTasa de error const=0.6, nepocas=10:\t\t0.10526315789473684\n",
      "\tTasa de error const=0.6, nepocas=100:\t\t0.07602339181286549\n",
      "\tTasa de error const=0.8, nepocas=1:\t\t0.3508771929824561\n",
      "\tTasa de error const=0.8, nepocas=5:\t\t0.3333333333333333\n",
      "\tTasa de error const=0.8, nepocas=10:\t\t0.19883040935672514\n",
      "\tTasa de error const=0.8, nepocas=100:\t\t0.06432748538011696\n",
      "\tTasa de error const=1, nepocas=1:\t\t0.391812865497076\n",
      "\tTasa de error const=1, nepocas=5:\t\t0.2631578947368421\n",
      "\tTasa de error const=1, nepocas=10:\t\t0.16374269005847952\n",
      "\tTasa de error const=1, nepocas=100:\t\t0.08771929824561403\n"
     ]
    }
   ],
   "source": [
    "from ClasificadorRegresionLogistica import ClasificadorRegresionLogistica\n",
    "from Datos import Datos\n",
    "from ValidacionSimple import ValidacionSimple\n",
    "\n",
    "conjuntos_de_datos = ['example1', 'example2', 'example3', 'example4', 'wdbc']\n",
    "\n",
    "valores_de_const = [0.4, 0.6, 0.8, 1]\n",
    "valores_de_nepocas = [1, 5, 10, 100]\n",
    "\n",
    "val = ValidacionSimple(70)\n",
    "reg = ClasificadorRegresionLogistica()\n",
    "\n",
    "for nombre_fichero in conjuntos_de_datos:\n",
    "    datos = Datos('ConjuntosDatos/' + nombre_fichero + '.data')\n",
    "    \n",
    "    print(nombre_fichero, \":\", sep='')\n",
    "    \n",
    "    val.creaParticiones(datos.datos)\n",
    "    \n",
    "    for const in valores_de_const:\n",
    "        for nepocas in valores_de_nepocas:\n",
    "            errores, tasa_de_error = reg.validacion(val, datos, reg, nepocas=nepocas, const=const)\n",
    "            print(\"\\tTasa de error const=\", const, \", nepocas=\", nepocas, \":\\t\\t\", tasa_de_error, sep='')\n"
   ]
  },
  {
   "cell_type": "markdown",
   "metadata": {},
   "source": [
    "Vemos que para example1, 2 y 3 regresión logística es un mal clasificador. Si analizamos los datos, podemos ver que están distribuidos de tal manera que es imposible dividirlos con una sola línea recta y tener una buena clasificación.\n",
    "Para example4 la tasa de error es 0, y esto no es debido a un sobreajuste sino a que los datos están agrupados en dos rectas paralelas y por tanto regresión logística puede dividirlos muy fácilmente trazando una recta paralela que pase entre ellos.\n",
    "\n",
    "Podemos ver que, en general, aumentar nepocas disminuye la tasa de errores, pero ello es a costa de aumentar el tiempo de entrenamiento necesario. Sin embargo aumentar nepocas no aumenta el tiempo de clasificación.\n",
    "Vemos que variar la constante de aprendizaje no afecta altamente al resultado, pero es preferible que sea ligeramente menor que 1"
   ]
  },
  {
   "cell_type": "markdown",
   "metadata": {},
   "source": [
    "# Apartado 3"
   ]
  },
  {
   "cell_type": "markdown",
   "metadata": {},
   "source": [
    "## KNN SkLearn\n",
    "\n",
    "Hemos implementado vecinos próximos con la biblioteca de Scikit-Learn. Hemos probado con peso uniforme y en función de la distancia."
   ]
  },
  {
   "cell_type": "code",
   "execution_count": 15,
   "metadata": {},
   "outputs": [
    {
     "name": "stdout",
     "output_type": "stream",
     "text": [
      "\n",
      "Peso = uniform\n",
      "example1:\n",
      "\tTasa de error k=1:\t\t0.15833333333333333\n",
      "\tTasa de error k=3:\t\t0.16666666666666666\n",
      "\tTasa de error k=5:\t\t0.16666666666666666\n",
      "\tTasa de error k=11:\t\t0.16666666666666666\n",
      "\tTasa de error k=21:\t\t0.15\n",
      "\tTasa de error k=51:\t\t0.225\n",
      "example2:\n",
      "\tTasa de error k=1:\t\t0.0\n",
      "\tTasa de error k=3:\t\t0.0\n",
      "\tTasa de error k=5:\t\t0.0\n",
      "\tTasa de error k=11:\t\t0.0\n",
      "\tTasa de error k=21:\t\t0.0\n",
      "\tTasa de error k=51:\t\t0.0\n",
      "example3:\n",
      "\tTasa de error k=1:\t\t0.041666666666666664\n",
      "\tTasa de error k=3:\t\t0.025\n",
      "\tTasa de error k=5:\t\t0.025\n",
      "\tTasa de error k=11:\t\t0.008333333333333333\n",
      "\tTasa de error k=21:\t\t0.025\n",
      "\tTasa de error k=51:\t\t0.03333333333333333\n",
      "example4:\n",
      "\tTasa de error k=1:\t\t0.0\n",
      "\tTasa de error k=3:\t\t0.0\n",
      "\tTasa de error k=5:\t\t0.0\n",
      "\tTasa de error k=11:\t\t0.0\n",
      "\tTasa de error k=21:\t\t0.0\n",
      "\tTasa de error k=51:\t\t0.16666666666666666\n",
      "wdbc:\n",
      "\tTasa de error k=1:\t\t0.04093567251461988\n",
      "\tTasa de error k=3:\t\t0.029239766081871343\n",
      "\tTasa de error k=5:\t\t0.023391812865497075\n",
      "\tTasa de error k=11:\t\t0.04093567251461988\n",
      "\tTasa de error k=21:\t\t0.05263157894736842\n",
      "\tTasa de error k=51:\t\t0.05847953216374269\n",
      "\n",
      "Peso = distance\n",
      "example1:\n",
      "\tTasa de error k=1:\t\t0.15\n",
      "\tTasa de error k=3:\t\t0.16666666666666666\n",
      "\tTasa de error k=5:\t\t0.16666666666666666\n",
      "\tTasa de error k=11:\t\t0.15833333333333333\n",
      "\tTasa de error k=21:\t\t0.14166666666666666\n",
      "\tTasa de error k=51:\t\t0.15833333333333333\n",
      "example2:\n",
      "\tTasa de error k=1:\t\t0.0\n",
      "\tTasa de error k=3:\t\t0.0\n",
      "\tTasa de error k=5:\t\t0.0\n",
      "\tTasa de error k=11:\t\t0.0\n",
      "\tTasa de error k=21:\t\t0.0\n",
      "\tTasa de error k=51:\t\t0.0\n",
      "example3:\n",
      "\tTasa de error k=1:\t\t0.016666666666666666\n",
      "\tTasa de error k=3:\t\t0.016666666666666666\n",
      "\tTasa de error k=5:\t\t0.03333333333333333\n",
      "\tTasa de error k=11:\t\t0.025\n",
      "\tTasa de error k=21:\t\t0.041666666666666664\n",
      "\tTasa de error k=51:\t\t0.016666666666666666\n",
      "example4:\n",
      "\tTasa de error k=1:\t\t0.0\n",
      "\tTasa de error k=3:\t\t0.0\n",
      "\tTasa de error k=5:\t\t0.0\n",
      "\tTasa de error k=11:\t\t0.0\n",
      "\tTasa de error k=21:\t\t0.0\n",
      "\tTasa de error k=51:\t\t0.0\n",
      "wdbc:\n",
      "\tTasa de error k=1:\t\t0.04678362573099415\n",
      "\tTasa de error k=3:\t\t0.029239766081871343\n",
      "\tTasa de error k=5:\t\t0.05263157894736842\n",
      "\tTasa de error k=11:\t\t0.03508771929824561\n",
      "\tTasa de error k=21:\t\t0.04678362573099415\n",
      "\tTasa de error k=51:\t\t0.04678362573099415\n"
     ]
    }
   ],
   "source": [
    "from Datos import Datos\n",
    "from sklearn.neighbors import KNeighborsClassifier\n",
    "from sklearn import preprocessing\n",
    "from ValidacionSimple import ValidacionSimple\n",
    "import numpy as np\n",
    "import itertools\n",
    "\n",
    "conjuntos_de_datos = ['example1', 'example2', 'example3', 'example4', 'wdbc']\n",
    "val = ValidacionSimple(70)\n",
    "valores_de_k = [1, 3, 5, 11, 21, 51]\n",
    "pesos = ['uniform', 'distance']\n",
    "\n",
    "for peso in pesos:\n",
    "    print (\"\\nPeso =\", peso)\n",
    "    for nombre_fichero in conjuntos_de_datos:\n",
    "        datos = Datos('ConjuntosDatos/' + nombre_fichero + '.data')\n",
    "        val.creaParticiones(datos.datos) #Se usa Validacion Simple\n",
    "\n",
    "        # Normalizo los datos\n",
    "        datos_normalizados = preprocessing.normalize(datos.datos, axis=0)\n",
    "        datos_normalizados[:,-1] = datos.datos[:,-1]\n",
    "\n",
    "        # ndarray para los datos de test que no incluye la clase\n",
    "        X = np.zeros((len(val.particiones[0].indicesTrain),len(datos.nominalAtributos)-1))\n",
    "        y = []\n",
    "        # Completo ndarrays X e y\n",
    "        for n, indiceTrain in enumerate(val.particiones[0].indicesTrain):\n",
    "            X[n]=datos_normalizados[indiceTrain,:-1]\n",
    "            y.append(datos_normalizados[indiceTrain,-1])\n",
    "\n",
    "        print(nombre_fichero, \":\", sep='')\n",
    "        for k in valores_de_k:\n",
    "            SK_KNN = KNeighborsClassifier(n_neighbors=k, weights=peso)    # Clasificador KNN de sklearn\n",
    "            SK_KNN.fit(X, y)    # Ingreso los Datos al modelo\n",
    "\n",
    "            # clasifica todos los datos de datos.datos y los guarda en predicho\n",
    "            predicho=[]\n",
    "            for dato in datos_normalizados:\n",
    "                predicho.append(SK_KNN.predict([dato[:-1]]))\n",
    "\n",
    "            # errores para los datos de Test y tasa de error correspondiente\n",
    "            errores = []\n",
    "            for n, indiceTest in enumerate(val.particiones[0].indicesTest):\n",
    "                errores.append(datos_normalizados[indiceTest,-1] != predicho[indiceTest])\n",
    "            errores = list(itertools.chain.from_iterable(errores))\n",
    "            tasa_de_error = sum(errores) / len(errores)\n",
    "\n",
    "            print(\"\\tTasa de error k=\", k, \":\\t\\t\", tasa_de_error, sep='')\n"
   ]
  },
  {
   "cell_type": "markdown",
   "metadata": {},
   "source": [
    "Vemos que, en general tenemos tasas de error parecidas a las que tiene nuestro algoritmo de KNN.\n",
    "Vemos también que poner el peso en función de la distancia hace que disminuyan nuestras tasa de error."
   ]
  },
  {
   "cell_type": "markdown",
   "metadata": {},
   "source": [
    "## Regresión logística SkLearn\n",
    "\n",
    "Hemos implementado regresión logística con la bilbioteca de Scikit-learn usando el algoritmo 'sag'"
   ]
  },
  {
   "cell_type": "code",
   "execution_count": 16,
   "metadata": {},
   "outputs": [
    {
     "name": "stdout",
     "output_type": "stream",
     "text": [
      "example1:\n",
      "\tTasa de error const=0.4, nepocas=1:\t\t0.49166666666666664\n",
      "\tTasa de error const=0.4, nepocas=5:\t\t0.5083333333333333\n",
      "\tTasa de error const=0.4, nepocas=10:\t\t0.49166666666666664\n",
      "\tTasa de error const=0.4, nepocas=100:\t\t0.5416666666666666\n",
      "\tTasa de error const=0.6, nepocas=1:\t\t0.49166666666666664\n",
      "\tTasa de error const=0.6, nepocas=5:\t\t0.5083333333333333\n",
      "\tTasa de error const=0.6, nepocas=10:\t\t0.5083333333333333\n",
      "\tTasa de error const=0.6, nepocas=100:\t\t0.5916666666666667\n",
      "\tTasa de error const=0.8, nepocas=1:\t\t0.5083333333333333\n",
      "\tTasa de error const="
     ]
    },
    {
     "name": "stderr",
     "output_type": "stream",
     "text": [
      "/usr/local/lib/python3.6/dist-packages/sklearn/linear_model/sag.py:334: ConvergenceWarning: The max_iter was reached which means the coef_ did not converge\n",
      "  \"the coef_ did not converge\", ConvergenceWarning)\n",
      "/usr/local/lib/python3.6/dist-packages/sklearn/linear_model/sag.py:334: ConvergenceWarning: The max_iter was reached which means the coef_ did not converge\n",
      "  \"the coef_ did not converge\", ConvergenceWarning)\n",
      "/usr/local/lib/python3.6/dist-packages/sklearn/linear_model/sag.py:334: ConvergenceWarning: The max_iter was reached which means the coef_ did not converge\n",
      "  \"the coef_ did not converge\", ConvergenceWarning)\n",
      "/usr/local/lib/python3.6/dist-packages/sklearn/linear_model/sag.py:334: ConvergenceWarning: The max_iter was reached which means the coef_ did not converge\n",
      "  \"the coef_ did not converge\", ConvergenceWarning)\n",
      "/usr/local/lib/python3.6/dist-packages/sklearn/linear_model/sag.py:334: ConvergenceWarning: The max_iter was reached which means the coef_ did not converge\n",
      "  \"the coef_ did not converge\", ConvergenceWarning)\n",
      "/usr/local/lib/python3.6/dist-packages/sklearn/linear_model/sag.py:334: ConvergenceWarning: The max_iter was reached which means the coef_ did not converge\n",
      "  \"the coef_ did not converge\", ConvergenceWarning)\n",
      "/usr/local/lib/python3.6/dist-packages/sklearn/linear_model/sag.py:334: ConvergenceWarning: The max_iter was reached which means the coef_ did not converge\n",
      "  \"the coef_ did not converge\", ConvergenceWarning)\n",
      "/usr/local/lib/python3.6/dist-packages/sklearn/linear_model/sag.py:334: ConvergenceWarning: The max_iter was reached which means the coef_ did not converge\n",
      "  \"the coef_ did not converge\", ConvergenceWarning)\n",
      "/usr/local/lib/python3.6/dist-packages/sklearn/linear_model/sag.py:334: ConvergenceWarning: The max_iter was reached which means the coef_ did not converge\n",
      "  \"the coef_ did not converge\", ConvergenceWarning)\n",
      "/usr/local/lib/python3.6/dist-packages/sklearn/linear_model/sag.py:334: ConvergenceWarning: The max_iter was reached which means the coef_ did not converge\n",
      "  \"the coef_ did not converge\", ConvergenceWarning)\n",
      "/usr/local/lib/python3.6/dist-packages/sklearn/linear_model/sag.py:334: ConvergenceWarning: The max_iter was reached which means the coef_ did not converge\n",
      "  \"the coef_ did not converge\", ConvergenceWarning)\n",
      "/usr/local/lib/python3.6/dist-packages/sklearn/linear_model/sag.py:334: ConvergenceWarning: The max_iter was reached which means the coef_ did not converge\n",
      "  \"the coef_ did not converge\", ConvergenceWarning)\n",
      "/usr/local/lib/python3.6/dist-packages/sklearn/linear_model/sag.py:334: ConvergenceWarning: The max_iter was reached which means the coef_ did not converge\n",
      "  \"the coef_ did not converge\", ConvergenceWarning)\n",
      "/usr/local/lib/python3.6/dist-packages/sklearn/linear_model/sag.py:334: ConvergenceWarning: The max_iter was reached which means the coef_ did not converge\n",
      "  \"the coef_ did not converge\", ConvergenceWarning)\n",
      "/usr/local/lib/python3.6/dist-packages/sklearn/linear_model/sag.py:334: ConvergenceWarning: The max_iter was reached which means the coef_ did not converge\n",
      "  \"the coef_ did not converge\", ConvergenceWarning)\n"
     ]
    },
    {
     "name": "stdout",
     "output_type": "stream",
     "text": [
      "0.8, nepocas=5:\t\t0.49166666666666664\n",
      "\tTasa de error const=0.8, nepocas=10:\t\t0.5083333333333333\n",
      "\tTasa de error const=0.8, nepocas=100:\t\t0.5333333333333333\n",
      "\tTasa de error const=1.0, nepocas=1:\t\t0.49166666666666664\n",
      "\tTasa de error const=1.0, nepocas=5:\t\t0.49166666666666664\n",
      "\tTasa de error const=1.0, nepocas=10:\t\t0.5083333333333333\n",
      "\tTasa de error const=1.0, nepocas=100:\t\t0.5583333333333333\n",
      "example2:\n",
      "\tTasa de error const=0.4, nepocas=1:\t\t0.49166666666666664\n",
      "\tTasa de error const=0.4, nepocas=5:\t\t0.49166666666666664\n",
      "\tTasa de error const=0.4, nepocas=10:\t\t0.5083333333333333\n",
      "\tTasa de error const=0.4, nepocas=100:\t\t0.5416666666666666\n",
      "\tTasa de error const=0.6, nepocas=1:\t\t0.5083333333333333\n",
      "\tTasa de error const=0.6, nepocas=5:\t\t0.5083333333333333\n",
      "\tTasa de error const=0.6, nepocas=10:\t\t0.5083333333333333\n",
      "\tTasa de error const=0.6, nepocas=100:\t\t0.5416666666666666\n",
      "\tTasa de error const=0.8, nepocas=1:\t\t0.5083333333333333\n",
      "\tTasa de error const=0.8, nepocas=5:\t\t0.5083333333333333\n",
      "\tTasa de error const=0.8, nepocas=10:\t\t0.49166666666666664\n",
      "\tTasa de error const=0.8, nepocas=100:\t\t0.5416666666666666\n",
      "\tTasa de error const=1.0, nepocas=1:\t\t0.5083333333333333\n",
      "\tTasa de error const="
     ]
    },
    {
     "name": "stderr",
     "output_type": "stream",
     "text": [
      "/usr/local/lib/python3.6/dist-packages/sklearn/linear_model/sag.py:334: ConvergenceWarning: The max_iter was reached which means the coef_ did not converge\n",
      "  \"the coef_ did not converge\", ConvergenceWarning)\n",
      "/usr/local/lib/python3.6/dist-packages/sklearn/linear_model/sag.py:334: ConvergenceWarning: The max_iter was reached which means the coef_ did not converge\n",
      "  \"the coef_ did not converge\", ConvergenceWarning)\n",
      "/usr/local/lib/python3.6/dist-packages/sklearn/linear_model/sag.py:334: ConvergenceWarning: The max_iter was reached which means the coef_ did not converge\n",
      "  \"the coef_ did not converge\", ConvergenceWarning)\n",
      "/usr/local/lib/python3.6/dist-packages/sklearn/linear_model/sag.py:334: ConvergenceWarning: The max_iter was reached which means the coef_ did not converge\n",
      "  \"the coef_ did not converge\", ConvergenceWarning)\n",
      "/usr/local/lib/python3.6/dist-packages/sklearn/linear_model/sag.py:334: ConvergenceWarning: The max_iter was reached which means the coef_ did not converge\n",
      "  \"the coef_ did not converge\", ConvergenceWarning)\n",
      "/usr/local/lib/python3.6/dist-packages/sklearn/linear_model/sag.py:334: ConvergenceWarning: The max_iter was reached which means the coef_ did not converge\n",
      "  \"the coef_ did not converge\", ConvergenceWarning)\n",
      "/usr/local/lib/python3.6/dist-packages/sklearn/linear_model/sag.py:334: ConvergenceWarning: The max_iter was reached which means the coef_ did not converge\n",
      "  \"the coef_ did not converge\", ConvergenceWarning)\n",
      "/usr/local/lib/python3.6/dist-packages/sklearn/linear_model/sag.py:334: ConvergenceWarning: The max_iter was reached which means the coef_ did not converge\n",
      "  \"the coef_ did not converge\", ConvergenceWarning)\n",
      "/usr/local/lib/python3.6/dist-packages/sklearn/linear_model/sag.py:334: ConvergenceWarning: The max_iter was reached which means the coef_ did not converge\n",
      "  \"the coef_ did not converge\", ConvergenceWarning)\n"
     ]
    },
    {
     "name": "stdout",
     "output_type": "stream",
     "text": [
      "1.0, nepocas=5:\t\t0.5083333333333333\n",
      "\tTasa de error const=1.0, nepocas=10:\t\t0.5083333333333333\n",
      "\tTasa de error const=1.0, nepocas=100:\t\t0.5416666666666666\n",
      "example3:\n",
      "\tTasa de error const=0.4, nepocas=1:\t\t0.5\n",
      "\tTasa de error const=0.4, nepocas=5:\t\t0.5\n",
      "\tTasa de error const=0.4, nepocas=10:\t\t0.5\n",
      "\tTasa de error const=0.4, nepocas=100:\t\t0.5333333333333333\n",
      "\tTasa de error const=0.6, nepocas=1:\t\t0.5\n",
      "\tTasa de error const=0.6, nepocas=5:\t\t0.5\n",
      "\tTasa de error const=0.6, nepocas=10:\t\t0.5\n"
     ]
    },
    {
     "name": "stderr",
     "output_type": "stream",
     "text": [
      "/usr/local/lib/python3.6/dist-packages/sklearn/linear_model/sag.py:334: ConvergenceWarning: The max_iter was reached which means the coef_ did not converge\n",
      "  \"the coef_ did not converge\", ConvergenceWarning)\n",
      "/usr/local/lib/python3.6/dist-packages/sklearn/linear_model/sag.py:334: ConvergenceWarning: The max_iter was reached which means the coef_ did not converge\n",
      "  \"the coef_ did not converge\", ConvergenceWarning)\n",
      "/usr/local/lib/python3.6/dist-packages/sklearn/linear_model/sag.py:334: ConvergenceWarning: The max_iter was reached which means the coef_ did not converge\n",
      "  \"the coef_ did not converge\", ConvergenceWarning)\n",
      "/usr/local/lib/python3.6/dist-packages/sklearn/linear_model/sag.py:334: ConvergenceWarning: The max_iter was reached which means the coef_ did not converge\n",
      "  \"the coef_ did not converge\", ConvergenceWarning)\n",
      "/usr/local/lib/python3.6/dist-packages/sklearn/linear_model/sag.py:334: ConvergenceWarning: The max_iter was reached which means the coef_ did not converge\n",
      "  \"the coef_ did not converge\", ConvergenceWarning)\n",
      "/usr/local/lib/python3.6/dist-packages/sklearn/linear_model/sag.py:334: ConvergenceWarning: The max_iter was reached which means the coef_ did not converge\n",
      "  \"the coef_ did not converge\", ConvergenceWarning)\n",
      "/usr/local/lib/python3.6/dist-packages/sklearn/linear_model/sag.py:334: ConvergenceWarning: The max_iter was reached which means the coef_ did not converge\n",
      "  \"the coef_ did not converge\", ConvergenceWarning)\n",
      "/usr/local/lib/python3.6/dist-packages/sklearn/linear_model/sag.py:334: ConvergenceWarning: The max_iter was reached which means the coef_ did not converge\n",
      "  \"the coef_ did not converge\", ConvergenceWarning)\n"
     ]
    },
    {
     "name": "stdout",
     "output_type": "stream",
     "text": [
      "\tTasa de error const=0.6, nepocas=100:\t\t0.5416666666666666\n",
      "\tTasa de error const=0.8, nepocas=1:\t\t0.5\n",
      "\tTasa de error const=0.8, nepocas=5:\t\t0.5\n",
      "\tTasa de error const=0.8, nepocas=10:\t\t0.5\n",
      "\tTasa de error const=0.8, nepocas=100:\t\t0.55\n",
      "\tTasa de error const=1.0, nepocas=1:\t\t0.5\n",
      "\tTasa de error const=1.0, nepocas=5:\t\t0.5\n",
      "\tTasa de error const=1.0, nepocas=10:\t\t0.5\n",
      "\tTasa de error const=1.0, nepocas=100:\t\t0.5333333333333333\n",
      "example4:\n",
      "\tTasa de error const=0.4, nepocas=1:\t\t0.43333333333333335\n",
      "\tTasa de error const="
     ]
    },
    {
     "name": "stderr",
     "output_type": "stream",
     "text": [
      "/usr/local/lib/python3.6/dist-packages/sklearn/linear_model/sag.py:334: ConvergenceWarning: The max_iter was reached which means the coef_ did not converge\n",
      "  \"the coef_ did not converge\", ConvergenceWarning)\n",
      "/usr/local/lib/python3.6/dist-packages/sklearn/linear_model/sag.py:334: ConvergenceWarning: The max_iter was reached which means the coef_ did not converge\n",
      "  \"the coef_ did not converge\", ConvergenceWarning)\n",
      "/usr/local/lib/python3.6/dist-packages/sklearn/linear_model/sag.py:334: ConvergenceWarning: The max_iter was reached which means the coef_ did not converge\n",
      "  \"the coef_ did not converge\", ConvergenceWarning)\n",
      "/usr/local/lib/python3.6/dist-packages/sklearn/linear_model/sag.py:334: ConvergenceWarning: The max_iter was reached which means the coef_ did not converge\n",
      "  \"the coef_ did not converge\", ConvergenceWarning)\n",
      "/usr/local/lib/python3.6/dist-packages/sklearn/linear_model/sag.py:334: ConvergenceWarning: The max_iter was reached which means the coef_ did not converge\n",
      "  \"the coef_ did not converge\", ConvergenceWarning)\n",
      "/usr/local/lib/python3.6/dist-packages/sklearn/linear_model/sag.py:334: ConvergenceWarning: The max_iter was reached which means the coef_ did not converge\n",
      "  \"the coef_ did not converge\", ConvergenceWarning)\n",
      "/usr/local/lib/python3.6/dist-packages/sklearn/linear_model/sag.py:334: ConvergenceWarning: The max_iter was reached which means the coef_ did not converge\n",
      "  \"the coef_ did not converge\", ConvergenceWarning)\n",
      "/usr/local/lib/python3.6/dist-packages/sklearn/linear_model/sag.py:334: ConvergenceWarning: The max_iter was reached which means the coef_ did not converge\n",
      "  \"the coef_ did not converge\", ConvergenceWarning)\n",
      "/usr/local/lib/python3.6/dist-packages/sklearn/linear_model/sag.py:334: ConvergenceWarning: The max_iter was reached which means the coef_ did not converge\n",
      "  \"the coef_ did not converge\", ConvergenceWarning)\n",
      "/usr/local/lib/python3.6/dist-packages/sklearn/linear_model/sag.py:334: ConvergenceWarning: The max_iter was reached which means the coef_ did not converge\n",
      "  \"the coef_ did not converge\", ConvergenceWarning)\n",
      "/usr/local/lib/python3.6/dist-packages/sklearn/linear_model/sag.py:334: ConvergenceWarning: The max_iter was reached which means the coef_ did not converge\n",
      "  \"the coef_ did not converge\", ConvergenceWarning)\n",
      "/usr/local/lib/python3.6/dist-packages/sklearn/linear_model/sag.py:334: ConvergenceWarning: The max_iter was reached which means the coef_ did not converge\n",
      "  \"the coef_ did not converge\", ConvergenceWarning)\n"
     ]
    },
    {
     "name": "stdout",
     "output_type": "stream",
     "text": [
      "0.4, nepocas=5:\t\t0.43333333333333335\n",
      "\tTasa de error const=0.4, nepocas=10:\t\t0.0\n",
      "\tTasa de error const=0.4, nepocas=100:\t\t0.0\n",
      "\tTasa de error const=0.6, nepocas=1:\t\t0.5666666666666667\n",
      "\tTasa de error const=0.6, nepocas=5:\t\t0.43333333333333335\n",
      "\tTasa de error const=0.6, nepocas=10:\t\t0.0\n",
      "\tTasa de error const=0.6, nepocas=100:\t\t0.0\n",
      "\tTasa de error const=0.8, nepocas=1:\t\t0.43333333333333335\n",
      "\tTasa de error const=0.8, nepocas=5:\t\t0.0\n",
      "\tTasa de error const=0.8, nepocas=10:\t\t0.0\n",
      "\tTasa de error const=0.8, nepocas=100:\t\t0.0\n",
      "\tTasa de error const=1.0, nepocas=1:\t\t0.43333333333333335\n",
      "\tTasa de error const=1.0, nepocas=5:\t\t0.5666666666666667\n",
      "\tTasa de error const=1.0, nepocas=10:\t\t0.0\n",
      "\tTasa de error const=1.0, nepocas=100:\t\t0.0\n",
      "wdbc:\n",
      "\tTasa de error const=0.4, nepocas=1:\t\t0.3684210526315789\n",
      "\tTasa de error const=0.4, nepocas=5:\t\t0.03508771929824561\n",
      "\tTasa de error const=0.4, nepocas=10:\t\t0.04678362573099415\n"
     ]
    },
    {
     "name": "stderr",
     "output_type": "stream",
     "text": [
      "/usr/local/lib/python3.6/dist-packages/sklearn/linear_model/sag.py:334: ConvergenceWarning: The max_iter was reached which means the coef_ did not converge\n",
      "  \"the coef_ did not converge\", ConvergenceWarning)\n",
      "/usr/local/lib/python3.6/dist-packages/sklearn/linear_model/sag.py:334: ConvergenceWarning: The max_iter was reached which means the coef_ did not converge\n",
      "  \"the coef_ did not converge\", ConvergenceWarning)\n",
      "/usr/local/lib/python3.6/dist-packages/sklearn/linear_model/sag.py:334: ConvergenceWarning: The max_iter was reached which means the coef_ did not converge\n",
      "  \"the coef_ did not converge\", ConvergenceWarning)\n",
      "/usr/local/lib/python3.6/dist-packages/sklearn/linear_model/sag.py:334: ConvergenceWarning: The max_iter was reached which means the coef_ did not converge\n",
      "  \"the coef_ did not converge\", ConvergenceWarning)\n",
      "/usr/local/lib/python3.6/dist-packages/sklearn/linear_model/sag.py:334: ConvergenceWarning: The max_iter was reached which means the coef_ did not converge\n",
      "  \"the coef_ did not converge\", ConvergenceWarning)\n",
      "/usr/local/lib/python3.6/dist-packages/sklearn/linear_model/sag.py:334: ConvergenceWarning: The max_iter was reached which means the coef_ did not converge\n",
      "  \"the coef_ did not converge\", ConvergenceWarning)\n",
      "/usr/local/lib/python3.6/dist-packages/sklearn/linear_model/sag.py:334: ConvergenceWarning: The max_iter was reached which means the coef_ did not converge\n",
      "  \"the coef_ did not converge\", ConvergenceWarning)\n",
      "/usr/local/lib/python3.6/dist-packages/sklearn/linear_model/sag.py:334: ConvergenceWarning: The max_iter was reached which means the coef_ did not converge\n",
      "  \"the coef_ did not converge\", ConvergenceWarning)\n",
      "/usr/local/lib/python3.6/dist-packages/sklearn/linear_model/sag.py:334: ConvergenceWarning: The max_iter was reached which means the coef_ did not converge\n",
      "  \"the coef_ did not converge\", ConvergenceWarning)\n"
     ]
    },
    {
     "name": "stdout",
     "output_type": "stream",
     "text": [
      "\tTasa de error const=0.4, nepocas=100:\t\t0.029239766081871343\n",
      "\tTasa de error const=0.6, nepocas=1:\t\t0.3391812865497076\n",
      "\tTasa de error const=0.6, nepocas=5:\t\t0.15204678362573099\n",
      "\tTasa de error const=0.6, nepocas=10:\t\t0.029239766081871343\n",
      "\tTasa de error const=0.6, nepocas=100:\t\t0.029239766081871343\n",
      "\tTasa de error const=0.8, nepocas=1:\t\t0.3391812865497076\n",
      "\tTasa de error const=0.8, nepocas=5:\t\t0.029239766081871343\n"
     ]
    },
    {
     "name": "stderr",
     "output_type": "stream",
     "text": [
      "/usr/local/lib/python3.6/dist-packages/sklearn/linear_model/sag.py:334: ConvergenceWarning: The max_iter was reached which means the coef_ did not converge\n",
      "  \"the coef_ did not converge\", ConvergenceWarning)\n",
      "/usr/local/lib/python3.6/dist-packages/sklearn/linear_model/sag.py:334: ConvergenceWarning: The max_iter was reached which means the coef_ did not converge\n",
      "  \"the coef_ did not converge\", ConvergenceWarning)\n",
      "/usr/local/lib/python3.6/dist-packages/sklearn/linear_model/sag.py:334: ConvergenceWarning: The max_iter was reached which means the coef_ did not converge\n",
      "  \"the coef_ did not converge\", ConvergenceWarning)\n",
      "/usr/local/lib/python3.6/dist-packages/sklearn/linear_model/sag.py:334: ConvergenceWarning: The max_iter was reached which means the coef_ did not converge\n",
      "  \"the coef_ did not converge\", ConvergenceWarning)\n",
      "/usr/local/lib/python3.6/dist-packages/sklearn/linear_model/sag.py:334: ConvergenceWarning: The max_iter was reached which means the coef_ did not converge\n",
      "  \"the coef_ did not converge\", ConvergenceWarning)\n"
     ]
    },
    {
     "name": "stdout",
     "output_type": "stream",
     "text": [
      "\tTasa de error const=0.8, nepocas=10:\t\t0.0935672514619883\n",
      "\tTasa de error const=0.8, nepocas=100:\t\t0.029239766081871343\n",
      "\tTasa de error const=1.0, nepocas=1:\t\t0.2807017543859649\n",
      "\tTasa de error const=1.0, nepocas=5:\t\t0.05263157894736842\n",
      "\tTasa de error const=1.0, nepocas=10:\t\t0.03508771929824561\n",
      "\tTasa de error const=1.0, nepocas=100:\t\t0.029239766081871343\n"
     ]
    },
    {
     "name": "stderr",
     "output_type": "stream",
     "text": [
      "/usr/local/lib/python3.6/dist-packages/sklearn/linear_model/sag.py:334: ConvergenceWarning: The max_iter was reached which means the coef_ did not converge\n",
      "  \"the coef_ did not converge\", ConvergenceWarning)\n",
      "/usr/local/lib/python3.6/dist-packages/sklearn/linear_model/sag.py:334: ConvergenceWarning: The max_iter was reached which means the coef_ did not converge\n",
      "  \"the coef_ did not converge\", ConvergenceWarning)\n"
     ]
    }
   ],
   "source": [
    "import itertools\n",
    "\n",
    "import numpy as np\n",
    "from sklearn import preprocessing\n",
    "from sklearn.linear_model import LogisticRegression\n",
    "\n",
    "from Datos import Datos\n",
    "from ValidacionSimple import ValidacionSimple\n",
    "\n",
    "conjuntos_de_datos = ['example1', 'example2', 'example3', 'example4', 'wdbc']\n",
    "val = ValidacionSimple(70)\n",
    "algoritmo = 'sag'  # Usaremos SAG = Stochastic Average Gradient\n",
    "pesoClase = 'balanced'\n",
    "\n",
    "nrosepocas = [1, 5, 10, 100]\n",
    "constantes = [0.4, 0.6, 0.8, 1.0]\n",
    "\n",
    "for nombre_fichero in conjuntos_de_datos:\n",
    "    datos = Datos('ConjuntosDatos/' + nombre_fichero + '.data')\n",
    "    val.creaParticiones(datos.datos)  # Se usa Validacion Simple\n",
    "    \n",
    "    # Normalizo los datos\n",
    "    datos_normalizados = preprocessing.normalize(datos.datos, axis=0)\n",
    "    datos_normalizados[:, -1] = datos.datos[:, -1]\n",
    "    \n",
    "    # ndarray para los datos de test que no incluye la clase\n",
    "    X = np.zeros((len(val.particiones[0].indicesTrain), len(datos.nominalAtributos) - 1))\n",
    "    y = []\n",
    "    # Completo ndarrays X e y\n",
    "    for n, indiceTrain in enumerate(val.particiones[0].indicesTrain):\n",
    "        X[n] = datos_normalizados[indiceTrain, :-1]\n",
    "        y.append(datos_normalizados[indiceTrain, -1])\n",
    "    \n",
    "    print(nombre_fichero, \":\", sep='')\n",
    "    \n",
    "    for constante in constantes:\n",
    "        for nepocas in nrosepocas:\n",
    "            SK_RegLog = LogisticRegression(C=constante, class_weight=pesoClase, solver=algoritmo,\n",
    "                                           multi_class='auto', max_iter=nepocas)  # Clasificador RegLog de\n",
    "            # sklearn\n",
    "            SK_RegLog.fit(X, y)\n",
    "            \n",
    "            # clasifica todos los datos de datos.datos y los guarda en predicho\n",
    "            predicho = []\n",
    "            for dato in datos_normalizados:\n",
    "                predicho.append(SK_RegLog.predict([dato[:-1]]))\n",
    "            \n",
    "            # errores para los datos de Test y tasa de error correspondiente\n",
    "            errores = []\n",
    "            for n, indiceTest in enumerate(val.particiones[0].indicesTest):\n",
    "                errores.append(datos_normalizados[indiceTest, -1] != predicho[indiceTest])\n",
    "            errores = list(itertools.chain.from_iterable(errores))\n",
    "            tasa_de_error = sum(errores) / len(errores)\n",
    "            \n",
    "            print(\"\\tTasa de error const=\", constante, \", nepocas=\", nepocas, \":\\t\\t\", tasa_de_error, sep='')\n"
   ]
  },
  {
   "cell_type": "markdown",
   "metadata": {},
   "source": [
    "Vemos que, en general tenemos tasas de error parecidas a las que tiene nuestro algoritmo de regresión logística.\n",
    "\n",
    "Vemos también que la implementación del algoritmo en sklearn nos avisa si el método no ha convergido, lo cual es normal para valores de nepocas(max_iter) bajos"
   ]
  },
  {
   "cell_type": "markdown",
   "metadata": {},
   "source": [
    "**Vamos a obtener las gráficas de knn para k=5 y normalizando datos**"
   ]
  },
  {
   "cell_type": "code",
   "execution_count": 11,
   "metadata": {},
   "outputs": [
    {
     "name": "stdout",
     "output_type": "stream",
     "text": [
      "example1:\n"
     ]
    },
    {
     "data": {
      "image/png": "[encoded data removed]",
      "text/plain": [
       "<Figure size 432x288 with 1 Axes>"
      ]
     },
     "metadata": {
      "needs_background": "light"
     },
     "output_type": "display_data"
    },
    {
     "data": {
      "text/plain": [
       "<Figure size 432x288 with 0 Axes>"
      ]
     },
     "metadata": {},
     "output_type": "display_data"
    },
    {
     "name": "stdout",
     "output_type": "stream",
     "text": [
      "example2:\n"
     ]
    },
    {
     "data": {
      "image/png": "[encoded data removed]",
      "text/plain": [
       "<Figure size 432x288 with 1 Axes>"
      ]
     },
     "metadata": {
      "needs_background": "light"
     },
     "output_type": "display_data"
    },
    {
     "data": {
      "text/plain": [
       "<Figure size 432x288 with 0 Axes>"
      ]
     },
     "metadata": {},
     "output_type": "display_data"
    },
    {
     "name": "stdout",
     "output_type": "stream",
     "text": [
      "example3:\n"
     ]
    },
    {
     "data": {
      "image/png": "[encoded data removed]",
      "text/plain": [
       "<Figure size 432x288 with 1 Axes>"
      ]
     },
     "metadata": {
      "needs_background": "light"
     },
     "output_type": "display_data"
    },
    {
     "data": {
      "text/plain": [
       "<Figure size 432x288 with 0 Axes>"
      ]
     },
     "metadata": {},
     "output_type": "display_data"
    },
    {
     "name": "stdout",
     "output_type": "stream",
     "text": [
      "example4:\n"
     ]
    },
    {
     "data": {
      "image/png": "[encoded data removed]",
      "text/plain": [
       "<Figure size 432x288 with 1 Axes>"
      ]
     },
     "metadata": {
      "needs_background": "light"
     },
     "output_type": "display_data"
    },
    {
     "data": {
      "text/plain": [
       "<Figure size 432x288 with 0 Axes>"
      ]
     },
     "metadata": {},
     "output_type": "display_data"
    }
   ],
   "source": [
    "import matplotlib.pyplot as plt\n",
    "\n",
    "% matplotlib inline\n",
    "\n",
    "from ClasificadorVecinosProximos import ClasificadorVecinosProximos\n",
    "from Datos import Datos\n",
    "from ValidacionSimple import ValidacionSimple\n",
    "from plotModel import plotModel\n",
    "\n",
    "conjuntos_de_datos = ['example1', 'example2', 'example3', 'example4']\n",
    "\n",
    "val = ValidacionSimple(70)\n",
    "knn = ClasificadorVecinosProximos(5)\n",
    "\n",
    "for nombre_fichero in conjuntos_de_datos:\n",
    "    datos = Datos('ConjuntosDatos/' + nombre_fichero + '.data')\n",
    "    \n",
    "    print(nombre_fichero, \":\", sep='')\n",
    "    \n",
    "    val.creaParticiones(datos.datos)\n",
    "    datosTrain = datos.extraeDatos(val.particiones[-1].indicesTrain)\n",
    "    datosTest = datos.extraeDatos(val.particiones[-1].indicesTest)\n",
    "    knn.entrenamiento(datosTrain, datos.nominalAtributos, datos.diccionarios)\n",
    "    \n",
    "    ii = val.particiones[-1].indicesTrain\n",
    "    x = datos.datos[ii, 0]\n",
    "    y = datos.datos[ii, 1]\n",
    "    clase = datos.datos[ii, -1]\n",
    "    plotModel(x, y, clase != 0, knn, \"Frontera\", datos.diccionarios)\n",
    "    \n",
    "    plt.figure()\n",
    "    plt.show()"
   ]
  },
  {
   "cell_type": "markdown",
   "metadata": {},
   "source": [
    "Vemos que en example 1 los datos están agrupados en torno a dos \"rectas\" que se cruzan formando una x.\n",
    "Knn clasifica muy bien los datos lejos del cruce de las 2 rectas y en el cruce tiene más fallos.\n",
    "\n",
    "En example 2 knn clasifica perfectamente ya que los datos están agrupados en 4 posiciones y no hay solapamientos de clases en las mismas posiciones\n",
    "\n",
    "En example 3 los datos son similares a los de example2, pero en vez de estar agrupados en 4 posiciones, están divididos en 4 regiones, teniendo las opuestas la misma clasificación. Vemos que knn aproxima bastante bien las regiones de cada clase.\n",
    "\n",
    "En example4 los datos están en dos rectas paralelas y knn los clasifica a la perfección"
   ]
  },
  {
   "cell_type": "markdown",
   "metadata": {},
   "source": [
    "**Vamos a obtener las gráficas de para regresión logística con nepocas=100, const=0.8**"
   ]
  },
  {
   "cell_type": "code",
   "execution_count": 10,
   "metadata": {},
   "outputs": [
    {
     "name": "stdout",
     "output_type": "stream",
     "text": [
      "example1:\n"
     ]
    },
    {
     "data": {
      "image/png": "[encoded data removed]",
      "text/plain": [
       "<Figure size 432x288 with 1 Axes>"
      ]
     },
     "metadata": {
      "needs_background": "light"
     },
     "output_type": "display_data"
    },
    {
     "data": {
      "text/plain": [
       "<Figure size 432x288 with 0 Axes>"
      ]
     },
     "metadata": {},
     "output_type": "display_data"
    },
    {
     "name": "stdout",
     "output_type": "stream",
     "text": [
      "example2:\n"
     ]
    },
    {
     "data": {
      "image/png": "[encoded data removed]",
      "text/plain": [
       "<Figure size 432x288 with 1 Axes>"
      ]
     },
     "metadata": {
      "needs_background": "light"
     },
     "output_type": "display_data"
    },
    {
     "data": {
      "text/plain": [
       "<Figure size 432x288 with 0 Axes>"
      ]
     },
     "metadata": {},
     "output_type": "display_data"
    },
    {
     "name": "stdout",
     "output_type": "stream",
     "text": [
      "example3:\n"
     ]
    },
    {
     "data": {
      "image/png": "[encoded data removed]",
      "text/plain": [
       "<Figure size 432x288 with 1 Axes>"
      ]
     },
     "metadata": {
      "needs_background": "light"
     },
     "output_type": "display_data"
    },
    {
     "data": {
      "text/plain": [
       "<Figure size 432x288 with 0 Axes>"
      ]
     },
     "metadata": {},
     "output_type": "display_data"
    },
    {
     "name": "stdout",
     "output_type": "stream",
     "text": [
      "example4:\n"
     ]
    },
    {
     "data": {
      "image/png": "[encoded data removed]",
      "text/plain": [
       "<Figure size 432x288 with 1 Axes>"
      ]
     },
     "metadata": {
      "needs_background": "light"
     },
     "output_type": "display_data"
    },
    {
     "data": {
      "text/plain": [
       "<Figure size 432x288 with 0 Axes>"
      ]
     },
     "metadata": {},
     "output_type": "display_data"
    }
   ],
   "source": [
    "import matplotlib.pyplot as plt\n",
    "\n",
    "% matplotlib inline\n",
    "\n",
    "from ClasificadorRegresionLogistica import ClasificadorRegresionLogistica\n",
    "from Datos import Datos\n",
    "from ValidacionSimple import ValidacionSimple\n",
    "from plotModel import plotModel\n",
    "\n",
    "conjuntos_de_datos = ['example1', 'example2', 'example3', 'example4']\n",
    "\n",
    "val = ValidacionSimple(70)\n",
    "reg = ClasificadorRegresionLogistica()\n",
    "\n",
    "for nombre_fichero in conjuntos_de_datos:\n",
    "    datos = Datos('ConjuntosDatos/' + nombre_fichero + '.data')\n",
    "    \n",
    "    print(nombre_fichero, \":\", sep='')\n",
    "    \n",
    "    val.creaParticiones(datos.datos)\n",
    "    datosTrain = datos.extraeDatos(val.particiones[-1].indicesTrain)\n",
    "    datosTest = datos.extraeDatos(val.particiones[-1].indicesTest)\n",
    "    reg.entrenamiento(datosTrain, datos.nominalAtributos, datos.diccionarios, nepocas=100, const=0.8)\n",
    "    \n",
    "    ii = val.particiones[-1].indicesTrain\n",
    "    x = datos.datos[ii, 0]\n",
    "    y = datos.datos[ii, 1]\n",
    "    clase = datos.datos[ii, -1]\n",
    "    plotModel(x, y, clase != 0, reg, \"Frontera\", datos.diccionarios)\n",
    "    \n",
    "    plt.figure()\n",
    "    plt.show()"
   ]
  },
  {
   "cell_type": "markdown",
   "metadata": {},
   "source": [
    "Vemos que regresión logística no es el clasificador apropiado para los conjuntos de datos 1,2 y 3, ya que se puede ver a simple vista que usando sólo una recta no se pueden dividir las regiones en las que se ubican las clases. Sin embargo vemos cómo el algoritmo, aún no pudiendo clasificar bien estos datos, sí que encuentra una \"buena\" recta que los divide.\n",
    "\n",
    "En example4, que los datos están agrupados en dos líneas paralelas, regresión logística clasifica a la perfección, tomando la recta que los divide en dos regiones"
   ]
  }
 ],
 "metadata": {
  "kernelspec": {
   "display_name": "Python 3",
   "language": "python",
   "name": "python3"
  },
  "language_info": {
   "codemirror_mode": {
    "name": "ipython",
    "version": 3
   },
   "file_extension": ".py",
   "mimetype": "text/x-python",
   "name": "python",
   "nbconvert_exporter": "python",
   "pygments_lexer": "ipython3",
   "version": "3.6.6"
  }
 },
 "nbformat": 4,
 "nbformat_minor": 1
}
