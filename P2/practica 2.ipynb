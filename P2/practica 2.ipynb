{
 "cells": [
  {
   "cell_type": "code",
   "execution_count": 1,
   "metadata": {
    "collapsed": false
   },
   "outputs": [
    {
     "name": "stdout",
     "output_type": "stream",
     "text": [
      "example1:\n\tTasa de error: k=1:\t0.16666666666666666\n"
     ]
    },
    {
     "name": "stdout",
     "output_type": "stream",
     "text": [
      "\tTasa de error: k=3:\t0.175\n\tTasa de error: k=5:\t0.125\n"
     ]
    },
    {
     "name": "stdout",
     "output_type": "stream",
     "text": [
      "\tTasa de error: k=11:\t0.15\n\tTasa de error: k=21:\t0.13333333333333333\n"
     ]
    },
    {
     "name": "stdout",
     "output_type": "stream",
     "text": [
      "\tTasa de error: k=51:\t0.10833333333333334\nexample2:\n\tTasa de error: k=1:\t0.0\n\tTasa de error: k=3:\t0.0\n"
     ]
    },
    {
     "name": "stdout",
     "output_type": "stream",
     "text": [
      "\tTasa de error: k=5:\t0.0\n\tTasa de error: k=11:\t0.0\n\tTasa de error: k=21:\t0.0\n"
     ]
    },
    {
     "name": "stdout",
     "output_type": "stream",
     "text": [
      "\tTasa de error: k=51:\t0.0\nexample3:\n\tTasa de error: k=1:\t0.058333333333333334\n"
     ]
    },
    {
     "name": "stdout",
     "output_type": "stream",
     "text": [
      "\tTasa de error: k=3:\t0.041666666666666664\n\tTasa de error: k=5:\t0.025\n"
     ]
    },
    {
     "name": "stdout",
     "output_type": "stream",
     "text": [
      "\tTasa de error: k=11:\t0.05\n\tTasa de error: k=21:\t0.041666666666666664\n"
     ]
    },
    {
     "name": "stdout",
     "output_type": "stream",
     "text": [
      "\tTasa de error: k=51:\t0.058333333333333334\nexample4:\n\tTasa de error: k=1:\t0.0\n\tTasa de error: k=3:\t0.0\n\tTasa de error: k=5:\t0.0\n\tTasa de error: k=11:\t0.0\n\tTasa de error: k=21:\t0.0\n\tTasa de error: k=51:\t0.0\nwdbc:\n"
     ]
    },
    {
     "name": "stdout",
     "output_type": "stream",
     "text": [
      "\tTasa de error: k=1:\t0.04093567251461988\n"
     ]
    },
    {
     "name": "stdout",
     "output_type": "stream",
     "text": [
      "\tTasa de error: k=3:\t0.023391812865497075\n"
     ]
    },
    {
     "name": "stdout",
     "output_type": "stream",
     "text": [
      "\tTasa de error: k=5:\t0.023391812865497075\n"
     ]
    },
    {
     "name": "stdout",
     "output_type": "stream",
     "text": [
      "\tTasa de error: k=11:\t0.04678362573099415\n"
     ]
    },
    {
     "name": "stdout",
     "output_type": "stream",
     "text": [
      "\tTasa de error: k=21:\t0.06432748538011696\n"
     ]
    },
    {
     "name": "stdout",
     "output_type": "stream",
     "text": [
      "\tTasa de error: k=51:\t0.023391812865497075\n"
     ]
    }
   ],
   "source": [
    "from ClasificadorVecinosProximos import ClasificadorVecinosProximos\n",
    "from Datos import Datos\n",
    "from ValidacionSimple import ValidacionSimple\n",
    "\n",
    "conjuntos_de_datos = ['example1', 'example2', 'example3', 'example4', 'wdbc']\n",
    "\n",
    "val = ValidacionSimple(70)\n",
    "\n",
    "valores_de_k = [1, 3, 5, 11, 21, 51]\n",
    "for nombre_fichero in conjuntos_de_datos:\n",
    "    datos = Datos('ConjuntosDatos/' + nombre_fichero + '.data')\n",
    "    \n",
    "    print(nombre_fichero, \":\", sep='')\n",
    "    for k in valores_de_k:\n",
    "        val.creaParticiones(datos.datos)\n",
    "        \n",
    "        knn = ClasificadorVecinosProximos(k)\n",
    "        \n",
    "        errores, tasa_de_error = knn.validacion(val, datos, knn)\n",
    "        \n",
    "        print(\"\\tTasa de error: k=\", k, \":\\t\", tasa_de_error, sep='')\n"
   ]
  },
  {
   "cell_type": "code",
   "execution_count": 3,
   "metadata": {
    "collapsed": true
   },
   "outputs": [
    {
     "name": "stdout",
     "output_type": "stream",
     "text": [
      "example1:\n\tTasa de error: :\t0.575\nexample2:\n\tTasa de error: :\t0.26666666666666666\nexample3:\n\tTasa de error: :\t0.5666666666666667\nexample4:\n\tTasa de error: :\t0.6666666666666666\nwdbc:\n\tTasa de error: :\t0.935672514619883\n"
     ]
    }
   ],
   "source": [
    "from ClasificadorRegresionLogistica import ClasificadorRegresionLogistica\n",
    "from Datos import Datos\n",
    "from ValidacionSimple import ValidacionSimple\n",
    "\n",
    "conjuntos_de_datos = ['example1', 'example2', 'example3', 'example4', 'wdbc']\n",
    "\n",
    "val = ValidacionSimple(70)\n",
    "reg = ClasificadorRegresionLogistica()\n",
    "\n",
    "for nombre_fichero in conjuntos_de_datos:\n",
    "    datos = Datos('ConjuntosDatos/' + nombre_fichero + '.data')\n",
    "    \n",
    "    print(nombre_fichero, \":\", sep='')\n",
    "    \n",
    "    val.creaParticiones(datos.datos)\n",
    "    errores, tasa_de_error = reg.validacion(val, datos, reg)\n",
    "    \n",
    "    print(\"\\tTasa de error: \", \":\\t\", tasa_de_error, sep='')"
   ]
  },
  {
   "cell_type": "code",
   "execution_count": 3,
   "metadata": {},
   "outputs": [],
   "source": []
  }
 ],
 "metadata": {
  "kernelspec": {
   "display_name": "Python 2",
   "language": "python",
   "name": "python2"
  },
  "language_info": {
   "codemirror_mode": {
    "name": "ipython",
    "version": 2
   },
   "file_extension": ".py",
   "mimetype": "text/x-python",
   "name": "python",
   "nbconvert_exporter": "python",
   "pygments_lexer": "ipython2",
   "version": "2.7.6"
  }
 },
 "nbformat": 4,
 "nbformat_minor": 0
}
