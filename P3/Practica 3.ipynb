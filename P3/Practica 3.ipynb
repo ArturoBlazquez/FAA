{
 "cells": [
  {
   "cell_type": "code",
   "execution_count": 6,
   "metadata": {
    "collapsed": false
   },
   "outputs": [
    {
     "name": "stdout",
     "output_type": "stream",
     "text": [
      "Generación: 0, "
     ]
    },
    {
     "name": "stdout",
     "output_type": "stream",
     "text": [
      "1, 2, "
     ]
    },
    {
     "name": "stdout",
     "output_type": "stream",
     "text": [
      "3, 4, "
     ]
    },
    {
     "name": "stdout",
     "output_type": "stream",
     "text": [
      "5, 6, "
     ]
    },
    {
     "name": "stdout",
     "output_type": "stream",
     "text": [
      "7, 8, "
     ]
    },
    {
     "name": "stdout",
     "output_type": "stream",
     "text": [
      "9, "
     ]
    },
    {
     "name": "stdout",
     "output_type": "stream",
     "text": [
      "10, "
     ]
    },
    {
     "name": "stdout",
     "output_type": "stream",
     "text": [
      "11, "
     ]
    },
    {
     "name": "stdout",
     "output_type": "stream",
     "text": [
      "12, "
     ]
    },
    {
     "name": "stdout",
     "output_type": "stream",
     "text": [
      "13, "
     ]
    },
    {
     "name": "stdout",
     "output_type": "stream",
     "text": [
      "14, "
     ]
    },
    {
     "name": "stdout",
     "output_type": "stream",
     "text": [
      "15, "
     ]
    },
    {
     "name": "stdout",
     "output_type": "stream",
     "text": [
      "16, "
     ]
    },
    {
     "name": "stdout",
     "output_type": "stream",
     "text": [
      "17, "
     ]
    },
    {
     "name": "stdout",
     "output_type": "stream",
     "text": [
      "18, "
     ]
    },
    {
     "name": "stdout",
     "output_type": "stream",
     "text": [
      "19, "
     ]
    },
    {
     "name": "stdout",
     "output_type": "stream",
     "text": [
      "20, "
     ]
    },
    {
     "name": "stdout",
     "output_type": "stream",
     "text": [
      "21, "
     ]
    },
    {
     "name": "stdout",
     "output_type": "stream",
     "text": [
      "22, "
     ]
    },
    {
     "name": "stdout",
     "output_type": "stream",
     "text": [
      "23, "
     ]
    },
    {
     "name": "stdout",
     "output_type": "stream",
     "text": [
      "24, "
     ]
    },
    {
     "name": "stdout",
     "output_type": "stream",
     "text": [
      "25, "
     ]
    },
    {
     "name": "stdout",
     "output_type": "stream",
     "text": [
      "26, "
     ]
    },
    {
     "name": "stdout",
     "output_type": "stream",
     "text": [
      "27, "
     ]
    },
    {
     "name": "stdout",
     "output_type": "stream",
     "text": [
      "28, "
     ]
    },
    {
     "name": "stdout",
     "output_type": "stream",
     "text": [
      "29, "
     ]
    },
    {
     "name": "stdout",
     "output_type": "stream",
     "text": [
      "30, "
     ]
    },
    {
     "name": "stdout",
     "output_type": "stream",
     "text": [
      "31, "
     ]
    },
    {
     "name": "stdout",
     "output_type": "stream",
     "text": [
      "32, "
     ]
    },
    {
     "name": "stdout",
     "output_type": "stream",
     "text": [
      "33, "
     ]
    },
    {
     "name": "stdout",
     "output_type": "stream",
     "text": [
      "34, "
     ]
    },
    {
     "name": "stdout",
     "output_type": "stream",
     "text": [
      "35, "
     ]
    },
    {
     "name": "stdout",
     "output_type": "stream",
     "text": [
      "36, "
     ]
    },
    {
     "name": "stdout",
     "output_type": "stream",
     "text": [
      "37, "
     ]
    },
    {
     "name": "stdout",
     "output_type": "stream",
     "text": [
      "38, "
     ]
    },
    {
     "name": "stdout",
     "output_type": "stream",
     "text": [
      "39, "
     ]
    },
    {
     "name": "stdout",
     "output_type": "stream",
     "text": [
      "40, "
     ]
    },
    {
     "name": "stdout",
     "output_type": "stream",
     "text": [
      "41, "
     ]
    },
    {
     "name": "stdout",
     "output_type": "stream",
     "text": [
      "42, "
     ]
    },
    {
     "name": "stdout",
     "output_type": "stream",
     "text": [
      "43, "
     ]
    },
    {
     "name": "stdout",
     "output_type": "stream",
     "text": [
      "44, "
     ]
    },
    {
     "name": "stdout",
     "output_type": "stream",
     "text": [
      "45, "
     ]
    },
    {
     "name": "stdout",
     "output_type": "stream",
     "text": [
      "46, "
     ]
    },
    {
     "name": "stdout",
     "output_type": "stream",
     "text": [
      "47, "
     ]
    },
    {
     "name": "stdout",
     "output_type": "stream",
     "text": [
      "48, "
     ]
    },
    {
     "name": "stdout",
     "output_type": "stream",
     "text": [
      "49, "
     ]
    },
    {
     "name": "stdout",
     "output_type": "stream",
     "text": [
      "50, "
     ]
    },
    {
     "name": "stdout",
     "output_type": "stream",
     "text": [
      "51, "
     ]
    },
    {
     "name": "stdout",
     "output_type": "stream",
     "text": [
      "52, "
     ]
    },
    {
     "name": "stdout",
     "output_type": "stream",
     "text": [
      "53, "
     ]
    },
    {
     "name": "stdout",
     "output_type": "stream",
     "text": [
      "54, "
     ]
    },
    {
     "name": "stdout",
     "output_type": "stream",
     "text": [
      "55, "
     ]
    },
    {
     "name": "stdout",
     "output_type": "stream",
     "text": [
      "56, "
     ]
    },
    {
     "name": "stdout",
     "output_type": "stream",
     "text": [
      "57, "
     ]
    },
    {
     "name": "stdout",
     "output_type": "stream",
     "text": [
      "58, "
     ]
    },
    {
     "name": "stdout",
     "output_type": "stream",
     "text": [
      "59, "
     ]
    },
    {
     "name": "stdout",
     "output_type": "stream",
     "text": [
      "60, "
     ]
    },
    {
     "name": "stdout",
     "output_type": "stream",
     "text": [
      "61, "
     ]
    },
    {
     "name": "stdout",
     "output_type": "stream",
     "text": [
      "62, "
     ]
    },
    {
     "name": "stdout",
     "output_type": "stream",
     "text": [
      "63, "
     ]
    },
    {
     "name": "stdout",
     "output_type": "stream",
     "text": [
      "64, "
     ]
    },
    {
     "name": "stdout",
     "output_type": "stream",
     "text": [
      "65, "
     ]
    },
    {
     "name": "stdout",
     "output_type": "stream",
     "text": [
      "66, "
     ]
    },
    {
     "name": "stdout",
     "output_type": "stream",
     "text": [
      "67, "
     ]
    },
    {
     "name": "stdout",
     "output_type": "stream",
     "text": [
      "68, "
     ]
    },
    {
     "name": "stdout",
     "output_type": "stream",
     "text": [
      "69, "
     ]
    },
    {
     "name": "stdout",
     "output_type": "stream",
     "text": [
      "70, "
     ]
    },
    {
     "name": "stdout",
     "output_type": "stream",
     "text": [
      "71, "
     ]
    },
    {
     "name": "stdout",
     "output_type": "stream",
     "text": [
      "72, "
     ]
    },
    {
     "name": "stdout",
     "output_type": "stream",
     "text": [
      "73, "
     ]
    },
    {
     "name": "stdout",
     "output_type": "stream",
     "text": [
      "74, "
     ]
    },
    {
     "name": "stdout",
     "output_type": "stream",
     "text": [
      "75, "
     ]
    },
    {
     "name": "stdout",
     "output_type": "stream",
     "text": [
      "76, "
     ]
    },
    {
     "name": "stdout",
     "output_type": "stream",
     "text": [
      "77, "
     ]
    },
    {
     "name": "stdout",
     "output_type": "stream",
     "text": [
      "78, "
     ]
    },
    {
     "name": "stdout",
     "output_type": "stream",
     "text": [
      "79, "
     ]
    },
    {
     "name": "stdout",
     "output_type": "stream",
     "text": [
      "80, "
     ]
    },
    {
     "name": "stdout",
     "output_type": "stream",
     "text": [
      "81, "
     ]
    },
    {
     "name": "stdout",
     "output_type": "stream",
     "text": [
      "82, "
     ]
    },
    {
     "name": "stdout",
     "output_type": "stream",
     "text": [
      "83, "
     ]
    },
    {
     "name": "stdout",
     "output_type": "stream",
     "text": [
      "84, "
     ]
    },
    {
     "name": "stdout",
     "output_type": "stream",
     "text": [
      "85, "
     ]
    },
    {
     "name": "stdout",
     "output_type": "stream",
     "text": [
      "86, "
     ]
    },
    {
     "name": "stdout",
     "output_type": "stream",
     "text": [
      "87, "
     ]
    },
    {
     "name": "stdout",
     "output_type": "stream",
     "text": [
      "88, "
     ]
    },
    {
     "name": "stdout",
     "output_type": "stream",
     "text": [
      "89, "
     ]
    },
    {
     "name": "stdout",
     "output_type": "stream",
     "text": [
      "90, "
     ]
    },
    {
     "name": "stdout",
     "output_type": "stream",
     "text": [
      "91, "
     ]
    },
    {
     "name": "stdout",
     "output_type": "stream",
     "text": [
      "92, "
     ]
    },
    {
     "name": "stdout",
     "output_type": "stream",
     "text": [
      "93, "
     ]
    },
    {
     "name": "stdout",
     "output_type": "stream",
     "text": [
      "94, "
     ]
    },
    {
     "name": "stdout",
     "output_type": "stream",
     "text": [
      "95, "
     ]
    },
    {
     "name": "stdout",
     "output_type": "stream",
     "text": [
      "96, "
     ]
    },
    {
     "name": "stdout",
     "output_type": "stream",
     "text": [
      "97, "
     ]
    },
    {
     "name": "stdout",
     "output_type": "stream",
     "text": [
      "98, "
     ]
    },
    {
     "name": "stdout",
     "output_type": "stream",
     "text": [
      "99, "
     ]
    },
    {
     "name": "stdout",
     "output_type": "stream",
     "text": [
      "100\n[[0.63022613 0.69095477]\n [0.63959799 0.68844221]\n [0.64092965 0.68844221]\n [0.64158291 0.68844221]\n [0.64243719 0.68341709]\n [0.64512563 0.6959799 ]\n [0.64633166 0.7361809 ]\n [0.64869347 0.7361809 ]\n [0.64879397 0.7361809 ]\n [0.6510804  0.7361809 ]\n [0.65909548 0.7361809 ]\n [0.6628392  0.74874372]\n [0.66540201 0.74874372]\n [0.67296482 0.74874372]\n [0.67580402 0.75376884]\n [0.68148241 0.75628141]\n [0.6868593  0.75628141]\n [0.69484925 0.75628141]\n [0.70175879 0.77135678]\n [0.70648241 0.77135678]\n [0.70562814 0.77135678]\n [0.7180402  0.77135678]\n [0.71811558 0.77135678]\n [0.71703518 0.77135678]\n [0.72316583 0.77135678]\n [0.72479899 0.77135678]\n [0.73203518 0.77135678]\n [0.73092965 0.77135678]\n [0.72623116 0.77135678]\n [0.72947236 0.77135678]\n [0.73575377 0.77135678]\n [0.73942211 0.77135678]\n [0.73690955 0.77135678]\n [0.74115578 0.77638191]\n [0.74208543 0.77638191]\n [0.74693467 0.77638191]\n [0.74758794 0.77638191]\n [0.7479397  0.77638191]\n [0.74610553 0.77638191]\n [0.74437186 0.77638191]\n [0.745      0.77638191]\n [0.74736181 0.77638191]\n [0.74331658 0.77638191]\n [0.74414573 0.77889447]\n [0.75364322 0.77889447]\n [0.75105528 0.77889447]\n [0.74592965 0.77889447]\n [0.7551005  0.77889447]\n [0.76015075 0.77889447]\n [0.76487437 0.7839196 ]\n [0.75512563 0.7839196 ]\n [0.75484925 0.7839196 ]\n [0.75288945 0.7839196 ]\n [0.75138191 0.7839196 ]\n [0.75278894 0.78894472]\n [0.74987437 0.78894472]\n [0.76       0.78894472]\n [0.75648241 0.78894472]\n [0.75650754 0.78894472]\n [0.75665829 0.79648241]\n [0.76020101 0.79648241]\n [0.76050251 0.79648241]\n [0.74974874 0.79648241]\n [0.74994975 0.79648241]\n [0.75449749 0.79648241]\n [0.75376884 0.79648241]\n [0.75763819 0.79648241]\n [0.75660804 0.79648241]\n [0.76959799 0.79648241]\n [0.77954774 0.79648241]\n [0.77801508 0.79648241]\n [0.77658291 0.79648241]\n [0.77356784 0.79648241]\n [0.77150754 0.79648241]\n [0.76233668 0.79648241]\n [0.77258794 0.79648241]\n [0.76824121 0.79648241]\n [0.77472362 0.79899497]\n [0.77153266 0.79899497]\n [0.77628141 0.79899497]\n [0.77374372 0.79899497]\n [0.77650754 0.8040201 ]\n [0.7730402  0.8040201 ]\n [0.77595477 0.8040201 ]\n [0.7761809  0.8040201 ]\n [0.76638191 0.80653266]\n [0.76952261 0.80653266]\n [0.76736181 0.80653266]\n [0.75932161 0.80653266]\n [0.76595477 0.80653266]\n [0.75917085 0.80653266]\n [0.76027638 0.80653266]\n [0.77065327 0.80653266]\n [0.78153266 0.80653266]\n [0.77954774 0.80653266]\n [0.78537688 0.80653266]\n [0.78907035 0.80653266]\n [0.78917085 0.80653266]\n [0.785      0.80653266]\n [0.78276382 0.80653266]\n [0.78067839 0.80653266]]\n[[0.6381909547738693]]\n[[0, 0, 0, 0, 0, 0, 0, 0, 201, 0, 0, 475, 0, 0, 371, 0, 0, 0, 0, 0, 0, 0, 0, 0, 443, 0, 0, 0, 0, 0, 1], [0, 285, 0, 0, 425, 0, 246, 0, 0, 129, 0, 0, 0, 0, 97, 0, 0, 0, 0, 0, 319, 0, 0, 420, 0, 0, 0, 0, 0, 0, 0], [0, 327, 0, 0, 0, 0, 0, 0, 0, 0, 453, 0, 0, 63, 0, 0, 241, 0, 299, 0, 501, 167, 0, 245, 0, 227, 0, 0, 0, 0, 0]]\n\nTiempo de ejecución: 32.590772352000386\n"
     ]
    }
   ],
   "source": [
    "from timeit import default_timer as timer\n",
    "\n",
    "from ClasificadorAG import ClasificadorAG, REPRESENTACION_BINARIA\n",
    "from Datos import Datos\n",
    "from ValidacionSimple import ValidacionSimple\n",
    "\n",
    "start = timer()\n",
    "\n",
    "datos = Datos('wdbc.data')\n",
    "val = ValidacionSimple(70)\n",
    "\n",
    "val.creaParticiones(datos.datos)\n",
    "ag = ClasificadorAG()\n",
    "datos_train = datos.extraeDatos(val.particiones[0].indicesTrain)\n",
    "\n",
    "ag.entrenamiento(datos_train, datos.nominalAtributos, datos.diccionarios, max_reglas=3, num_generaciones=100, representacion=REPRESENTACION_BINARIA)\n",
    "\n",
    "\n",
    "print(ag.stats)\n",
    "print(ag.apriori)\n",
    "print(ag.individuo)\n",
    "\n",
    "end = timer()\n",
    "print(\"\\nTiempo de ejecución:\", end - start)\n"
   ]
  },
  {
   "cell_type": "code",
   "execution_count": 3,
   "metadata": {},
   "outputs": [],
   "source": []
  },
  {
   "cell_type": "code",
   "execution_count": null,
   "metadata": {},
   "outputs": [],
   "source": []
  }
 ],
 "metadata": {
  "kernelspec": {
   "display_name": "Python 2",
   "language": "python",
   "name": "python2"
  },
  "language_info": {
   "codemirror_mode": {
    "name": "ipython",
    "version": 2
   },
   "file_extension": ".py",
   "mimetype": "text/x-python",
   "name": "python",
   "nbconvert_exporter": "python",
   "pygments_lexer": "ipython2",
   "version": "2.7.6"
  }
 },
 "nbformat": 4,
 "nbformat_minor": 0
}
