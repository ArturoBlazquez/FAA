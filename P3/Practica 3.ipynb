{
 "cells": [
  {
   "cell_type": "code",
   "execution_count": 4,
   "metadata": {
    "collapsed": false
   },
   "outputs": [
    {
     "name": "stdout",
     "output_type": "stream",
     "text": [
      "0.6304985337243402\n[[217, 56, 204, 258, 0, 186, 326, 0, 362, 358, 42, 220, 280, 0, 490, 273, 0, 270, 123, 177, 0, 0, 0, 0, 0, 124, 49, 510, 0, 332, 0], [0, 0, 0, 0, 27, 0, 0, 0, 0, 0, 459, 0, 0, 339, 0, 0, 271, 0, 0, 0, 0, 0, 0, 0, 0, 0, 238, 143, 0, 0, 1]]\n\nTiempo de ejecución: 21.620733008000002\n"
     ]
    }
   ],
   "source": [
    "from timeit import default_timer as timer\n",
    "\n",
    "from ClasificadorAG import ClasificadorAG, REPRESENTACION_BINARIA\n",
    "from Datos import Datos\n",
    "from ValidacionSimple import ValidacionSimple\n",
    "\n",
    "start = timer()\n",
    "\n",
    "datos = Datos('ConjuntosDatos/wdbc.data')\n",
    "val = ValidacionSimple(60)\n",
    "\n",
    "val.creaParticiones(datos.datos)\n",
    "ag = ClasificadorAG()\n",
    "datos_train = datos.extraeDatos(val.particiones[0].indicesTrain)\n",
    "\n",
    "ag.entrenamiento(datos_train, datos.nominalAtributos, datos.diccionarios, max_reglas=2, num_generaciones=100,\n",
    "                 representacion=REPRESENTACION_BINARIA, prob_mutacion=0.01)\n",
    "\n",
    "\n",
    "print(ag.fitness_apriori)\n",
    "print(ag.mejor_individuo)\n",
    "\n",
    "end = timer()\n",
    "print(\"\\nTiempo de ejecución:\", end - start)\n"
   ]
  },
  {
   "cell_type": "code",
   "execution_count": 5,
   "metadata": {},
   "outputs": [
    {
     "name": "stdout",
     "output_type": "stream",
     "text": [
      "0.21929824561403508\n"
     ]
    }
   ],
   "source": [
    "datos_test = datos.extraeDatos(val.particiones[0].indicesTest)\n",
    "\n",
    "pred = ag.clasifica(datos_test, datos.nominalAtributos, datos.diccionarios)\n",
    "\n",
    "errores = datos_test[:, -1] != pred\n",
    "\n",
    "tasa_de_error = sum(errores) / len(errores)\n",
    "\n",
    "print(tasa_de_error)"
   ]
  },
  {
   "cell_type": "code",
   "execution_count": 29,
   "metadata": {},
   "outputs": [
    {
     "name": "stdout",
     "output_type": "stream",
     "text": [
      "Generación: 0, "
     ]
    },
    {
     "name": "stdout",
     "output_type": "stream",
     "text": [
      "1, 2, "
     ]
    },
    {
     "name": "stdout",
     "output_type": "stream",
     "text": [
      "3, 4, "
     ]
    },
    {
     "name": "stdout",
     "output_type": "stream",
     "text": [
      "5, 6, "
     ]
    },
    {
     "name": "stdout",
     "output_type": "stream",
     "text": [
      "7, 8, "
     ]
    },
    {
     "name": "stdout",
     "output_type": "stream",
     "text": [
      "9, 10, "
     ]
    },
    {
     "name": "stdout",
     "output_type": "stream",
     "text": [
      "11, 12, "
     ]
    },
    {
     "name": "stdout",
     "output_type": "stream",
     "text": [
      "13, 14, "
     ]
    },
    {
     "name": "stdout",
     "output_type": "stream",
     "text": [
      "15, 16, "
     ]
    },
    {
     "name": "stdout",
     "output_type": "stream",
     "text": [
      "17, 18, "
     ]
    },
    {
     "name": "stdout",
     "output_type": "stream",
     "text": [
      "19, 20, "
     ]
    },
    {
     "name": "stdout",
     "output_type": "stream",
     "text": [
      "21, 22, "
     ]
    },
    {
     "name": "stdout",
     "output_type": "stream",
     "text": [
      "23, 24, "
     ]
    },
    {
     "name": "stdout",
     "output_type": "stream",
     "text": [
      "25, 26, "
     ]
    },
    {
     "name": "stdout",
     "output_type": "stream",
     "text": [
      "27, 28, "
     ]
    },
    {
     "name": "stdout",
     "output_type": "stream",
     "text": [
      "29, 30, "
     ]
    },
    {
     "name": "stdout",
     "output_type": "stream",
     "text": [
      "31, 32, "
     ]
    },
    {
     "name": "stdout",
     "output_type": "stream",
     "text": [
      "33, 34, "
     ]
    },
    {
     "name": "stdout",
     "output_type": "stream",
     "text": [
      "35, 36, "
     ]
    },
    {
     "name": "stdout",
     "output_type": "stream",
     "text": [
      "37, 38, "
     ]
    },
    {
     "name": "stdout",
     "output_type": "stream",
     "text": [
      "39, 40, "
     ]
    },
    {
     "name": "stdout",
     "output_type": "stream",
     "text": [
      "41, 42, "
     ]
    },
    {
     "name": "stdout",
     "output_type": "stream",
     "text": [
      "43, 44, "
     ]
    },
    {
     "name": "stdout",
     "output_type": "stream",
     "text": [
      "45, 46, "
     ]
    },
    {
     "name": "stdout",
     "output_type": "stream",
     "text": [
      "47, 48, "
     ]
    },
    {
     "name": "stdout",
     "output_type": "stream",
     "text": [
      "49, 50, "
     ]
    },
    {
     "name": "stdout",
     "output_type": "stream",
     "text": [
      "51, 52, "
     ]
    },
    {
     "name": "stdout",
     "output_type": "stream",
     "text": [
      "53, 54, "
     ]
    },
    {
     "name": "stdout",
     "output_type": "stream",
     "text": [
      "55, 56, "
     ]
    },
    {
     "name": "stdout",
     "output_type": "stream",
     "text": [
      "57, 58, "
     ]
    },
    {
     "name": "stdout",
     "output_type": "stream",
     "text": [
      "59, 60, "
     ]
    },
    {
     "name": "stdout",
     "output_type": "stream",
     "text": [
      "61, 62, "
     ]
    },
    {
     "name": "stdout",
     "output_type": "stream",
     "text": [
      "63, 64, "
     ]
    },
    {
     "name": "stdout",
     "output_type": "stream",
     "text": [
      "65, 66, "
     ]
    },
    {
     "name": "stdout",
     "output_type": "stream",
     "text": [
      "67, 68, "
     ]
    },
    {
     "name": "stdout",
     "output_type": "stream",
     "text": [
      "69, 70, "
     ]
    },
    {
     "name": "stdout",
     "output_type": "stream",
     "text": [
      "71, 72, "
     ]
    },
    {
     "name": "stdout",
     "output_type": "stream",
     "text": [
      "73, 74, "
     ]
    },
    {
     "name": "stdout",
     "output_type": "stream",
     "text": [
      "75, 76, "
     ]
    },
    {
     "name": "stdout",
     "output_type": "stream",
     "text": [
      "77, 78, "
     ]
    },
    {
     "name": "stdout",
     "output_type": "stream",
     "text": [
      "79, 80, "
     ]
    },
    {
     "name": "stdout",
     "output_type": "stream",
     "text": [
      "81, 82, "
     ]
    },
    {
     "name": "stdout",
     "output_type": "stream",
     "text": [
      "83, 84, "
     ]
    },
    {
     "name": "stdout",
     "output_type": "stream",
     "text": [
      "85, 86, "
     ]
    },
    {
     "name": "stdout",
     "output_type": "stream",
     "text": [
      "87, 88, "
     ]
    },
    {
     "name": "stdout",
     "output_type": "stream",
     "text": [
      "89, 90, "
     ]
    },
    {
     "name": "stdout",
     "output_type": "stream",
     "text": [
      "91, 92, "
     ]
    },
    {
     "name": "stdout",
     "output_type": "stream",
     "text": [
      "93, 94, "
     ]
    },
    {
     "name": "stdout",
     "output_type": "stream",
     "text": [
      "95, 96, "
     ]
    },
    {
     "name": "stdout",
     "output_type": "stream",
     "text": [
      "97, 98, "
     ]
    },
    {
     "name": "stdout",
     "output_type": "stream",
     "text": [
      "99, 100\n\tTasa de error: 0.2850877192982456\n"
     ]
    }
   ],
   "source": [
    "errores, tasa_de_error = ag.validacion(val, datos, ag)\n",
    "        \n",
    "print(\"\\nTasa de error:\", tasa_de_error)"
   ]
  },
  {
   "cell_type": "code",
   "execution_count": 6,
   "metadata": {},
   "outputs": [
    {
     "name": "stdout",
     "output_type": "stream",
     "text": [
      "example1:\n"
     ]
    },
    {
     "name": "stdout",
     "output_type": "stream",
     "text": [
      "\tNum_individuos=100 ,num_generaciones=100\n\t\tTasa de aciertos: 0.5125\n\t\tMejor fitness: 0.7125\n\t\tTiempo necesario: 12.321850711000025\n"
     ]
    },
    {
     "name": "stdout",
     "output_type": "stream",
     "text": [
      "\tNum_individuos=100 ,num_generaciones=500\n\t\tTasa de aciertos: 0.49375\n\t\tMejor fitness: 0.6875\n\t\tTiempo necesario: 58.89448998099988\n"
     ]
    },
    {
     "name": "stdout",
     "output_type": "stream",
     "text": [
      "\tNum_individuos=100 ,num_generaciones=1000\n\t\tTasa de aciertos: 0.42500000000000004\n\t\tMejor fitness: 0.7166666666666667\n\t\tTiempo necesario: 127.398352144\n"
     ]
    },
    {
     "name": "stdout",
     "output_type": "stream",
     "text": [
      "\tNum_individuos=200 ,num_generaciones=100\n\t\tTasa de aciertos: 0.44375\n\t\tMejor fitness: 0.7291666666666666\n\t\tTiempo necesario: 20.417627703000107\n"
     ]
    },
    {
     "name": "stdout",
     "output_type": "stream",
     "text": [
      "\tNum_individuos=200 ,num_generaciones=500\n\t\tTasa de aciertos: 0.5375\n\t\tMejor fitness: 0.6875\n\t\tTiempo necesario: 121.27824749199999\n"
     ]
    },
    {
     "name": "stdout",
     "output_type": "stream",
     "text": [
      "\tNum_individuos=200 ,num_generaciones=1000\n\t\tTasa de aciertos: 0.49375\n\t\tMejor fitness: 0.7958333333333333\n\t\tTiempo necesario: 267.4058192320001\nexample3:\n"
     ]
    },
    {
     "name": "stdout",
     "output_type": "stream",
     "text": [
      "\tNum_individuos=100 ,num_generaciones=100\n\t\tTasa de aciertos: 0.50625\n\t\tMejor fitness: 0.6041666666666666\n\t\tTiempo necesario: 9.44792345499991\n"
     ]
    },
    {
     "name": "stdout",
     "output_type": "stream",
     "text": [
      "\tNum_individuos=100 ,num_generaciones=500\n\t\tTasa de aciertos: 0.5\n\t\tMejor fitness: 0.5958333333333333\n\t\tTiempo necesario: 60.02437265499998\n"
     ]
    },
    {
     "name": "stdout",
     "output_type": "stream",
     "text": [
      "\tNum_individuos=100 ,num_generaciones=1000\n\t\tTasa de aciertos: 0.525\n\t\tMejor fitness: 0.5833333333333334\n\t\tTiempo necesario: 100.80685305499992\n"
     ]
    },
    {
     "name": "stdout",
     "output_type": "stream",
     "text": [
      "\tNum_individuos=200 ,num_generaciones=100\n\t\tTasa de aciertos: 0.53125\n\t\tMejor fitness: 0.5708333333333333\n\t\tTiempo necesario: 20.504951522999818\n"
     ]
    },
    {
     "name": "stdout",
     "output_type": "stream",
     "text": [
      "\tNum_individuos=200 ,num_generaciones=500\n\t\tTasa de aciertos: 0.48750000000000004\n\t\tMejor fitness: 0.6541666666666667\n\t\tTiempo necesario: 137.43010221600002\n"
     ]
    },
    {
     "name": "stdout",
     "output_type": "stream",
     "text": [
      "\tNum_individuos=200 ,num_generaciones=1000\n\t\tTasa de aciertos: 0.5\n\t\tMejor fitness: 0.6\n\t\tTiempo necesario: 246.508527038\nexample4:\n"
     ]
    },
    {
     "name": "stdout",
     "output_type": "stream",
     "text": [
      "\tNum_individuos=100 ,num_generaciones=100\n\t\tTasa de aciertos: 0.975\n\t\tMejor fitness: 1.0\n\t\tTiempo necesario: 2.5739338210000824\n"
     ]
    },
    {
     "name": "stdout",
     "output_type": "stream",
     "text": [
      "\tNum_individuos=100 ,num_generaciones=500\n\t\tTasa de aciertos: 0.975\n\t\tMejor fitness: 1.0\n\t\tTiempo necesario: 14.700500538999677\n"
     ]
    },
    {
     "name": "stdout",
     "output_type": "stream",
     "text": [
      "\tNum_individuos=100 ,num_generaciones=1000\n\t\tTasa de aciertos: 1.0\n\t\tMejor fitness: 1.0\n\t\tTiempo necesario: 23.140378760000203\n"
     ]
    },
    {
     "name": "stdout",
     "output_type": "stream",
     "text": [
      "\tNum_individuos=200 ,num_generaciones=100\n\t\tTasa de aciertos: 0.975\n\t\tMejor fitness: 1.0\n\t\tTiempo necesario: 6.654773521999687\n"
     ]
    },
    {
     "name": "stdout",
     "output_type": "stream",
     "text": [
      "\tNum_individuos=200 ,num_generaciones=500\n\t\tTasa de aciertos: 1.0\n\t\tMejor fitness: 1.0\n\t\tTiempo necesario: 24.716871034000178\n"
     ]
    },
    {
     "name": "stdout",
     "output_type": "stream",
     "text": [
      "\tNum_individuos=200 ,num_generaciones=1000\n\t\tTasa de aciertos: 1.0\n\t\tMejor fitness: 1.0\n\t\tTiempo necesario: 65.03443855500018\nwdbc:\n"
     ]
    },
    {
     "name": "stdout",
     "output_type": "stream",
     "text": [
      "\tNum_individuos=100 ,num_generaciones=100\n\t\tTasa de aciertos: 0.6491228070175439\n\t\tMejor fitness: 0.7595307917888563\n\t\tTiempo necesario: 16.00991027400005\n"
     ]
    },
    {
     "name": "stdout",
     "output_type": "stream",
     "text": [
      "\tNum_individuos=100 ,num_generaciones=500\n\t\tTasa de aciertos: 0.5570175438596492\n\t\tMejor fitness: 0.8152492668621701\n\t\tTiempo necesario: 123.02595494000025\n"
     ]
    },
    {
     "name": "stdout",
     "output_type": "stream",
     "text": [
      "\tNum_individuos=100 ,num_generaciones=1000\n\t\tTasa de aciertos: 0.6403508771929824\n\t\tMejor fitness: 0.7038123167155426\n\t\tTiempo necesario: 235.37329007400012\n"
     ]
    },
    {
     "name": "stdout",
     "output_type": "stream",
     "text": [
      "\tNum_individuos=200 ,num_generaciones=100\n\t\tTasa de aciertos: 0.6359649122807017\n\t\tMejor fitness: 0.7771260997067448\n\t\tTiempo necesario: 37.419016075999934\n"
     ]
    },
    {
     "name": "stdout",
     "output_type": "stream",
     "text": [
      "\tNum_individuos=200 ,num_generaciones=500\n\t\tTasa de aciertos: 0.5964912280701755\n\t\tMejor fitness: 0.7536656891495601\n\t\tTiempo necesario: 118.86603947200001\n"
     ]
    },
    {
     "name": "stdout",
     "output_type": "stream",
     "text": [
      "\tNum_individuos=200 ,num_generaciones=1000\n\t\tTasa de aciertos: 0.7763157894736842\n\t\tMejor fitness: 0.6832844574780058\n\t\tTiempo necesario: 408.84416859600015\n"
     ]
    }
   ],
   "source": [
    "from timeit import default_timer as timer\n",
    "\n",
    "from ClasificadorAG import ClasificadorAG\n",
    "from Datos import Datos\n",
    "from ValidacionSimple import ValidacionSimple\n",
    "\n",
    "ag = ClasificadorAG()\n",
    "val = ValidacionSimple(60)\n",
    "\n",
    "conjuntos_de_datos = ['example1', 'example3', 'example4', 'wdbc']\n",
    "num_individuos_list = [100, 200]\n",
    "num_generaciones_list = [100, 500, 1000]\n",
    "\n",
    "for nombre_fichero in conjuntos_de_datos:\n",
    "    datos = Datos('ConjuntosDatos/' + nombre_fichero + '.data')\n",
    "    val.creaParticiones(datos.datos)\n",
    "    \n",
    "    print(nombre_fichero, \":\", sep='')\n",
    "    for num_individuos in num_individuos_list:\n",
    "        for num_generaciones in num_generaciones_list:\n",
    "            start = timer()\n",
    "            errores, tasa_de_error = ag.validacion(val, datos, ag, num_generaciones, num_individuos)\n",
    "            \n",
    "            print(\"\\tNum_individuos=\", num_individuos, \" ,num_generaciones=\", num_generaciones, sep='')\n",
    "            print(\"\\t\\tTasa de aciertos:\", 1 - tasa_de_error)\n",
    "            print(\"\\t\\tMejor fitness:\", ag.stats[-1, -1])\n",
    "            print(\"\\t\\tTiempo necesario:\", timer() - start)\n"
   ]
  },
  {
   "cell_type": "code",
   "execution_count": 8,
   "metadata": {},
   "outputs": [
    {
     "data": {
      "text/plain": [
       "<matplotlib.legend.Legend at 0x7f2531db47f0>"
      ]
     },
     "execution_count": 8,
     "metadata": {},
     "output_type": "execute_result"
    },
    {
     "data": {
      "image/png": "[encoded data removed]",
      "text/plain": [
       "<Figure size 432x288 with 1 Axes>"
      ]
     },
     "metadata": {},
     "output_type": "display_data"
    }
   ],
   "source": [
    "import matplotlib.pyplot as mp\n",
    "mp.plot(ag.stats[:,0], label='fitness medio')\n",
    "mp.plot(ag.stats[:,1], label='fitness mejor ind')\n",
    "mp.axhline(y=ag.fitness_apriori, label='apriori', color='black', linestyle=':')\n",
    "mp.xlabel('Generacion')\n",
    "mp.ylabel('Fitness')\n",
    "mp.ylim(ag.fitness_apriori/2,1.0)\n",
    "mp.legend(loc='lower right', shadow=True, fontsize='x-large')"
   ]
  },
  {
   "cell_type": "code",
   "execution_count": null,
   "metadata": {},
   "outputs": [],
   "source": []
  }
 ],
 "metadata": {
  "kernelspec": {
   "display_name": "Python 2",
   "language": "python",
   "name": "python2"
  },
  "language_info": {
   "codemirror_mode": {
    "name": "ipython",
    "version": 2
   },
   "file_extension": ".py",
   "mimetype": "text/x-python",
   "name": "python",
   "nbconvert_exporter": "python",
   "pygments_lexer": "ipython2",
   "version": "2.7.6"
  }
 },
 "nbformat": 4,
 "nbformat_minor": 0
}
