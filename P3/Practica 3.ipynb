{
 "cells": [
  {
   "cell_type": "code",
   "execution_count": null,
   "metadata": {
    "collapsed": false
   },
   "outputs": [
    {
     "name": "stdout",
     "output_type": "stream",
     "text": [
      "Generación: 0, "
     ]
    },
    {
     "name": "stdout",
     "output_type": "stream",
     "text": [
      "1, 2, "
     ]
    },
    {
     "name": "stdout",
     "output_type": "stream",
     "text": [
      "3, 4, "
     ]
    },
    {
     "name": "stdout",
     "output_type": "stream",
     "text": [
      "5, 6, "
     ]
    },
    {
     "name": "stdout",
     "output_type": "stream",
     "text": [
      "7, 8, "
     ]
    },
    {
     "name": "stdout",
     "output_type": "stream",
     "text": [
      "9, 10, "
     ]
    },
    {
     "name": "stdout",
     "output_type": "stream",
     "text": [
      "11, 12, 13, "
     ]
    },
    {
     "name": "stdout",
     "output_type": "stream",
     "text": [
      "14, 15, 16, "
     ]
    },
    {
     "name": "stdout",
     "output_type": "stream",
     "text": [
      "17, 18, 19, "
     ]
    },
    {
     "name": "stdout",
     "output_type": "stream",
     "text": [
      "20, 21, 22, "
     ]
    },
    {
     "name": "stdout",
     "output_type": "stream",
     "text": [
      "23, 24, 25, "
     ]
    },
    {
     "name": "stdout",
     "output_type": "stream",
     "text": [
      "26, 27, 28, "
     ]
    },
    {
     "name": "stdout",
     "output_type": "stream",
     "text": [
      "29, 30, 31, "
     ]
    },
    {
     "name": "stdout",
     "output_type": "stream",
     "text": [
      "32, 33, 34, "
     ]
    },
    {
     "name": "stdout",
     "output_type": "stream",
     "text": [
      "35, 36, 37, "
     ]
    },
    {
     "name": "stdout",
     "output_type": "stream",
     "text": [
      "38, 39, 40, "
     ]
    },
    {
     "name": "stdout",
     "output_type": "stream",
     "text": [
      "41, 42, 43, "
     ]
    },
    {
     "name": "stdout",
     "output_type": "stream",
     "text": [
      "44, 45, 46, "
     ]
    },
    {
     "name": "stdout",
     "output_type": "stream",
     "text": [
      "47, 48, 49, "
     ]
    },
    {
     "name": "stdout",
     "output_type": "stream",
     "text": [
      "50, 51, "
     ]
    },
    {
     "name": "stdout",
     "output_type": "stream",
     "text": [
      "52, 53, "
     ]
    },
    {
     "name": "stdout",
     "output_type": "stream",
     "text": [
      "54, 55, "
     ]
    },
    {
     "name": "stdout",
     "output_type": "stream",
     "text": [
      "56, 57, "
     ]
    },
    {
     "name": "stdout",
     "output_type": "stream",
     "text": [
      "58, 59, "
     ]
    },
    {
     "name": "stdout",
     "output_type": "stream",
     "text": [
      "60, 61, "
     ]
    },
    {
     "name": "stdout",
     "output_type": "stream",
     "text": [
      "62, 63, "
     ]
    },
    {
     "name": "stdout",
     "output_type": "stream",
     "text": [
      "64, 65, "
     ]
    },
    {
     "name": "stdout",
     "output_type": "stream",
     "text": [
      "66, 67, "
     ]
    },
    {
     "name": "stdout",
     "output_type": "stream",
     "text": [
      "68, 69, "
     ]
    },
    {
     "name": "stdout",
     "output_type": "stream",
     "text": [
      "70, 71, "
     ]
    },
    {
     "name": "stdout",
     "output_type": "stream",
     "text": [
      "72, 73, "
     ]
    },
    {
     "name": "stdout",
     "output_type": "stream",
     "text": [
      "74, 75, "
     ]
    },
    {
     "name": "stdout",
     "output_type": "stream",
     "text": [
      "76, 77, "
     ]
    },
    {
     "name": "stdout",
     "output_type": "stream",
     "text": [
      "78, 79, "
     ]
    },
    {
     "name": "stdout",
     "output_type": "stream",
     "text": [
      "80, 81, "
     ]
    },
    {
     "name": "stdout",
     "output_type": "stream",
     "text": [
      "82, 83, "
     ]
    },
    {
     "name": "stdout",
     "output_type": "stream",
     "text": [
      "84, 85, "
     ]
    },
    {
     "name": "stdout",
     "output_type": "stream",
     "text": [
      "86, 87, "
     ]
    },
    {
     "name": "stdout",
     "output_type": "stream",
     "text": [
      "88, 89, "
     ]
    },
    {
     "name": "stdout",
     "output_type": "stream",
     "text": [
      "90, 91, "
     ]
    },
    {
     "name": "stdout",
     "output_type": "stream",
     "text": [
      "92, 93, "
     ]
    },
    {
     "name": "stdout",
     "output_type": "stream",
     "text": [
      "94, 95, "
     ]
    },
    {
     "name": "stdout",
     "output_type": "stream",
     "text": [
      "96, 97, "
     ]
    },
    {
     "name": "stdout",
     "output_type": "stream",
     "text": [
      "98, 99, "
     ]
    },
    {
     "name": "stdout",
     "output_type": "stream",
     "text": [
      "100\n[[0.62774194 0.64222874]\n [0.62633431 0.72140762]\n [0.62744868 0.72140762]\n [0.62774194 0.72140762]\n [0.62859238 0.72140762]\n [0.6326393  0.73607038]\n [0.63067449 0.73607038]\n [0.62961877 0.73607038]\n [0.63214076 0.73607038]\n [0.63876833 0.73607038]\n [0.64739003 0.73607038]\n [0.65392962 0.73607038]\n [0.64486804 0.73607038]\n [0.64181818 0.73607038]\n [0.64296188 0.73607038]\n [0.64284457 0.73607038]\n [0.64612903 0.73607038]\n [0.64944282 0.73607038]\n [0.65252199 0.73607038]\n [0.65328446 0.73607038]\n [0.65281525 0.74486804]\n [0.65800587 0.74486804]\n [0.66205279 0.74486804]\n [0.65879765 0.74486804]\n [0.66228739 0.74486804]\n [0.65577713 0.74486804]\n [0.65214076 0.74486804]\n [0.64868035 0.74486804]\n [0.65416422 0.74486804]\n [0.65906158 0.74486804]\n [0.65627566 0.74486804]\n [0.65912023 0.74486804]\n [0.65378299 0.74486804]\n [0.65322581 0.74486804]\n [0.65260997 0.74486804]\n [0.66005865 0.74486804]\n [0.66372434 0.74486804]\n [0.67228739 0.74486804]\n [0.65944282 0.74486804]\n [0.66997067 0.74486804]\n [0.66398827 0.74486804]\n [0.66759531 0.74486804]\n [0.67639296 0.74486804]\n [0.67964809 0.74486804]\n [0.66794721 0.74780059]\n [0.66164223 0.74780059]\n [0.66868035 0.74780059]\n [0.67313783 0.74780059]\n [0.68061584 0.74780059]\n [0.68404692 0.74780059]\n [0.68061584 0.74780059]\n [0.67636364 0.74780059]\n [0.67856305 0.74780059]\n [0.68604106 0.74780059]\n [0.68815249 0.74780059]\n [0.68278592 0.74780059]\n [0.67662757 0.74780059]\n [0.67158358 0.74780059]\n [0.67079179 0.74780059]\n [0.6711437  0.74780059]\n [0.6729912  0.74780059]\n [0.67319648 0.74780059]\n [0.67002933 0.74780059]\n [0.6670088  0.74780059]\n [0.66739003 0.74780059]\n [0.67768328 0.74780059]\n [0.67648094 0.74780059]\n [0.67099707 0.74780059]\n [0.67645161 0.74780059]\n [0.68917889 0.74780059]\n [0.6940176  0.74780059]\n [0.6888563  0.74780059]\n [0.67788856 0.74780059]\n [0.67498534 0.74780059]\n [0.67718475 0.74780059]\n [0.67935484 0.74780059]\n [0.67510264 0.74780059]\n [0.6729912  0.74780059]\n [0.67173021 0.74780059]\n [0.66642229 0.74780059]\n [0.67653959 0.74780059]\n [0.67416422 0.74780059]\n [0.68480938 0.74780059]\n [0.67818182 0.74780059]\n [0.67847507 0.74780059]\n [0.67167155 0.74780059]\n [0.67017595 0.74780059]\n [0.66061584 0.74780059]\n [0.66419355 0.74780059]\n [0.66222874 0.74780059]\n [0.67296188 0.74780059]\n [0.66777126 0.74780059]\n [0.66912023 0.74780059]\n [0.67398827 0.74780059]\n [0.66973607 0.74780059]\n [0.66847507 0.74780059]\n [0.6772434  0.74780059]\n [0.66668622 0.74780059]\n [0.66624633 0.74780059]\n [0.67187683 0.74780059]\n [0.6786217  0.74780059]]\n[[0.6275659824046921]]\n[[0, 31, 0, 0, 0, 0, 142, 0, 271, 0, 0, 75, 0, 0, 0, 0, 349, 0, 0, 0, 0, 0, 0, 0, 0, 0, 0, 0, 0, 0, 1]]\n\nTiempo de ejecución: 10.73992987299971\n"
     ]
    }
   ],
   "source": [
    "from timeit import default_timer as timer\n",
    "\n",
    "from ClasificadorAG import ClasificadorAG, REPRESENTACION_BINARIA\n",
    "from Datos import Datos\n",
    "from ValidacionSimple import ValidacionSimple\n",
    "\n",
    "start = timer()\n",
    "\n",
    "datos = Datos('wdbc.data')\n",
    "val = ValidacionSimple(60)\n",
    "\n",
    "val.creaParticiones(datos.datos)\n",
    "ag = ClasificadorAG()\n",
    "datos_train = datos.extraeDatos(val.particiones[0].indicesTrain)\n",
    "\n",
    "ag.entrenamiento(datos_train, datos.nominalAtributos, datos.diccionarios, max_reglas=2, num_generaciones=100,\n",
    "                 representacion=REPRESENTACION_BINARIA, prob_mutacion=0.01)\n",
    "\n",
    "\n",
    "print(ag.fitness_apriori)\n",
    "print(ag.mejor_individuo)\n",
    "\n",
    "end = timer()\n",
    "print(\"\\nTiempo de ejecución:\", end - start)\n"
   ]
  },
  {
   "cell_type": "code",
   "execution_count": 28,
   "metadata": {},
   "outputs": [
    {
     "name": "stdout",
     "output_type": "stream",
     "text": [
      "0.24561403508771928\n"
     ]
    }
   ],
   "source": [
    "datos_test = datos.extraeDatos(val.particiones[0].indicesTest)\n",
    "\n",
    "pred = ag.clasifica(datos_test, datos.nominalAtributos, datos.diccionarios)\n",
    "\n",
    "errores = datos_test[:, -1] != pred\n",
    "\n",
    "tasa_de_error = sum(errores) / len(errores)\n",
    "\n",
    "print(tasa_de_error)"
   ]
  },
  {
   "cell_type": "code",
   "execution_count": 29,
   "metadata": {},
   "outputs": [
    {
     "name": "stdout",
     "output_type": "stream",
     "text": [
      "Generación: 0, "
     ]
    },
    {
     "name": "stdout",
     "output_type": "stream",
     "text": [
      "1, 2, "
     ]
    },
    {
     "name": "stdout",
     "output_type": "stream",
     "text": [
      "3, 4, "
     ]
    },
    {
     "name": "stdout",
     "output_type": "stream",
     "text": [
      "5, 6, "
     ]
    },
    {
     "name": "stdout",
     "output_type": "stream",
     "text": [
      "7, 8, "
     ]
    },
    {
     "name": "stdout",
     "output_type": "stream",
     "text": [
      "9, 10, "
     ]
    },
    {
     "name": "stdout",
     "output_type": "stream",
     "text": [
      "11, 12, "
     ]
    },
    {
     "name": "stdout",
     "output_type": "stream",
     "text": [
      "13, 14, "
     ]
    },
    {
     "name": "stdout",
     "output_type": "stream",
     "text": [
      "15, 16, "
     ]
    },
    {
     "name": "stdout",
     "output_type": "stream",
     "text": [
      "17, 18, "
     ]
    },
    {
     "name": "stdout",
     "output_type": "stream",
     "text": [
      "19, 20, "
     ]
    },
    {
     "name": "stdout",
     "output_type": "stream",
     "text": [
      "21, 22, "
     ]
    },
    {
     "name": "stdout",
     "output_type": "stream",
     "text": [
      "23, 24, "
     ]
    },
    {
     "name": "stdout",
     "output_type": "stream",
     "text": [
      "25, 26, "
     ]
    },
    {
     "name": "stdout",
     "output_type": "stream",
     "text": [
      "27, 28, "
     ]
    },
    {
     "name": "stdout",
     "output_type": "stream",
     "text": [
      "29, 30, "
     ]
    },
    {
     "name": "stdout",
     "output_type": "stream",
     "text": [
      "31, 32, "
     ]
    },
    {
     "name": "stdout",
     "output_type": "stream",
     "text": [
      "33, 34, "
     ]
    },
    {
     "name": "stdout",
     "output_type": "stream",
     "text": [
      "35, 36, "
     ]
    },
    {
     "name": "stdout",
     "output_type": "stream",
     "text": [
      "37, 38, "
     ]
    },
    {
     "name": "stdout",
     "output_type": "stream",
     "text": [
      "39, 40, "
     ]
    },
    {
     "name": "stdout",
     "output_type": "stream",
     "text": [
      "41, 42, "
     ]
    },
    {
     "name": "stdout",
     "output_type": "stream",
     "text": [
      "43, 44, "
     ]
    },
    {
     "name": "stdout",
     "output_type": "stream",
     "text": [
      "45, 46, "
     ]
    },
    {
     "name": "stdout",
     "output_type": "stream",
     "text": [
      "47, 48, "
     ]
    },
    {
     "name": "stdout",
     "output_type": "stream",
     "text": [
      "49, 50, "
     ]
    },
    {
     "name": "stdout",
     "output_type": "stream",
     "text": [
      "51, 52, "
     ]
    },
    {
     "name": "stdout",
     "output_type": "stream",
     "text": [
      "53, 54, "
     ]
    },
    {
     "name": "stdout",
     "output_type": "stream",
     "text": [
      "55, 56, "
     ]
    },
    {
     "name": "stdout",
     "output_type": "stream",
     "text": [
      "57, 58, "
     ]
    },
    {
     "name": "stdout",
     "output_type": "stream",
     "text": [
      "59, 60, "
     ]
    },
    {
     "name": "stdout",
     "output_type": "stream",
     "text": [
      "61, 62, "
     ]
    },
    {
     "name": "stdout",
     "output_type": "stream",
     "text": [
      "63, 64, "
     ]
    },
    {
     "name": "stdout",
     "output_type": "stream",
     "text": [
      "65, 66, "
     ]
    },
    {
     "name": "stdout",
     "output_type": "stream",
     "text": [
      "67, 68, "
     ]
    },
    {
     "name": "stdout",
     "output_type": "stream",
     "text": [
      "69, 70, "
     ]
    },
    {
     "name": "stdout",
     "output_type": "stream",
     "text": [
      "71, 72, "
     ]
    },
    {
     "name": "stdout",
     "output_type": "stream",
     "text": [
      "73, 74, "
     ]
    },
    {
     "name": "stdout",
     "output_type": "stream",
     "text": [
      "75, 76, "
     ]
    },
    {
     "name": "stdout",
     "output_type": "stream",
     "text": [
      "77, 78, "
     ]
    },
    {
     "name": "stdout",
     "output_type": "stream",
     "text": [
      "79, 80, "
     ]
    },
    {
     "name": "stdout",
     "output_type": "stream",
     "text": [
      "81, 82, "
     ]
    },
    {
     "name": "stdout",
     "output_type": "stream",
     "text": [
      "83, 84, "
     ]
    },
    {
     "name": "stdout",
     "output_type": "stream",
     "text": [
      "85, 86, "
     ]
    },
    {
     "name": "stdout",
     "output_type": "stream",
     "text": [
      "87, 88, "
     ]
    },
    {
     "name": "stdout",
     "output_type": "stream",
     "text": [
      "89, 90, "
     ]
    },
    {
     "name": "stdout",
     "output_type": "stream",
     "text": [
      "91, 92, "
     ]
    },
    {
     "name": "stdout",
     "output_type": "stream",
     "text": [
      "93, 94, "
     ]
    },
    {
     "name": "stdout",
     "output_type": "stream",
     "text": [
      "95, 96, "
     ]
    },
    {
     "name": "stdout",
     "output_type": "stream",
     "text": [
      "97, 98, "
     ]
    },
    {
     "name": "stdout",
     "output_type": "stream",
     "text": [
      "99, 100\n\tTasa de error: 0.2850877192982456\n"
     ]
    }
   ],
   "source": [
    "errores, tasa_de_error = ag.validacion(val, datos, ag)\n",
    "        \n",
    "print(\"\\nTasa de error:\", tasa_de_error)"
   ]
  },
  {
   "cell_type": "code",
   "execution_count": 3,
   "metadata": {},
   "outputs": [
    {
     "name": "stdout",
     "output_type": "stream",
     "text": [
      "example1:\n"
     ]
    },
    {
     "name": "stdout",
     "output_type": "stream",
     "text": [
      "\tNum_individuos=100 ,num_generaciones=100\n\t\tTasa de aciertos: 0.475\n\t\tMejor fitness: 0.6791666666666667\n\t\tTiempo necesario: 8.186456068999178\n"
     ]
    },
    {
     "name": "stdout",
     "output_type": "stream",
     "text": [
      "\tNum_individuos=100 ,num_generaciones=500\n\t\tTasa de aciertos: 0.48750000000000004\n\t\tMejor fitness: 0.65\n\t\tTiempo necesario: 34.22443351500078\n"
     ]
    },
    {
     "name": "stdout",
     "output_type": "stream",
     "text": [
      "\tNum_individuos=100 ,num_generaciones=1000\n\t\tTasa de aciertos: 0.4625\n\t\tMejor fitness: 0.7458333333333333\n\t\tTiempo necesario: 93.1299763370007\n"
     ]
    },
    {
     "name": "stdout",
     "output_type": "stream",
     "text": [
      "\tNum_individuos=200 ,num_generaciones=100\n\t\tTasa de aciertos: 0.5\n\t\tMejor fitness: 0.6333333333333333\n\t\tTiempo necesario: 15.709739367999646\n"
     ]
    },
    {
     "name": "stdout",
     "output_type": "stream",
     "text": [
      "\tNum_individuos=200 ,num_generaciones=500\n\t\tTasa de aciertos: 0.48750000000000004\n\t\tMejor fitness: 0.6916666666666667\n\t\tTiempo necesario: 81.5379355999994\n"
     ]
    },
    {
     "name": "stdout",
     "output_type": "stream",
     "text": [
      "\tNum_individuos=200 ,num_generaciones=1000\n\t\tTasa de aciertos: 0.44999999999999996\n\t\tMejor fitness: 0.7333333333333333\n\t\tTiempo necesario: 174.95275150900125\nexample3:\n"
     ]
    },
    {
     "name": "stdout",
     "output_type": "stream",
     "text": [
      "\tNum_individuos=100 ,num_generaciones=100\n\t\tTasa de aciertos: 0.48124999999999996\n\t\tMejor fitness: 0.6041666666666666\n\t\tTiempo necesario: 7.447200190999865\n"
     ]
    },
    {
     "name": "stdout",
     "output_type": "stream",
     "text": [
      "\tNum_individuos=100 ,num_generaciones=500\n\t\tTasa de aciertos: 0.48124999999999996\n\t\tMejor fitness: 0.6416666666666667\n\t\tTiempo necesario: 46.034323236999626\n"
     ]
    },
    {
     "name": "stdout",
     "output_type": "stream",
     "text": [
      "\tNum_individuos=100 ,num_generaciones=1000\n\t\tTasa de aciertos: 0.48124999999999996\n\t\tMejor fitness: 0.5916666666666667\n\t\tTiempo necesario: 65.76066886800072\n"
     ]
    },
    {
     "name": "stdout",
     "output_type": "stream",
     "text": [
      "\tNum_individuos=200 ,num_generaciones=100\n\t\tTasa de aciertos: 0.49375\n\t\tMejor fitness: 0.6125\n\t\tTiempo necesario: 14.326271362000625\n"
     ]
    },
    {
     "name": "stdout",
     "output_type": "stream",
     "text": [
      "\tNum_individuos=200 ,num_generaciones=500\n\t\tTasa de aciertos: 0.49375\n\t\tMejor fitness: 0.6\n\t\tTiempo necesario: 84.03859507400011\n"
     ]
    },
    {
     "name": "stdout",
     "output_type": "stream",
     "text": [
      "\tNum_individuos=200 ,num_generaciones=1000\n\t\tTasa de aciertos: 0.48750000000000004\n\t\tMejor fitness: 0.5875\n\t\tTiempo necesario: 160.76533831800043\nexample4:\n"
     ]
    },
    {
     "name": "stdout",
     "output_type": "stream",
     "text": [
      "\tNum_individuos=100 ,num_generaciones=100\n\t\tTasa de aciertos: 1.0\n\t\tMejor fitness: 1.0\n\t\tTiempo necesario: 1.8418144320003194\n"
     ]
    },
    {
     "name": "stdout",
     "output_type": "stream",
     "text": [
      "\tNum_individuos=100 ,num_generaciones=500\n\t\tTasa de aciertos: 0.975\n\t\tMejor fitness: 1.0\n\t\tTiempo necesario: 9.953814135998982\n"
     ]
    },
    {
     "name": "stdout",
     "output_type": "stream",
     "text": [
      "\tNum_individuos=100 ,num_generaciones=1000\n\t\tTasa de aciertos: 0.95\n\t\tMejor fitness: 1.0\n\t\tTiempo necesario: 23.103763446999437\n"
     ]
    },
    {
     "name": "stdout",
     "output_type": "stream",
     "text": [
      "\tNum_individuos=200 ,num_generaciones=100\n\t\tTasa de aciertos: 0.975\n\t\tMejor fitness: 1.0\n\t\tTiempo necesario: 3.997121797001455\n"
     ]
    },
    {
     "name": "stdout",
     "output_type": "stream",
     "text": [
      "\tNum_individuos=200 ,num_generaciones=500\n\t\tTasa de aciertos: 1.0\n\t\tMejor fitness: 1.0\n\t\tTiempo necesario: 17.532333818000552\n"
     ]
    },
    {
     "name": "stdout",
     "output_type": "stream",
     "text": [
      "\tNum_individuos=200 ,num_generaciones=1000\n\t\tTasa de aciertos: 0.475\n\t\tMejor fitness: 1.0\n\t\tTiempo necesario: 48.73086559500007\nwdbc:\n"
     ]
    },
    {
     "name": "stdout",
     "output_type": "stream",
     "text": [
      "\tNum_individuos=100 ,num_generaciones=100\n\t\tTasa de aciertos: 0.6228070175438596\n\t\tMejor fitness: 0.6451612903225806\n\t\tTiempo necesario: 15.465025812998647\n"
     ]
    },
    {
     "name": "stdout",
     "output_type": "stream",
     "text": [
      "\tNum_individuos=100 ,num_generaciones=500\n\t\tTasa de aciertos: 0.6754385964912281\n\t\tMejor fitness: 0.8064516129032258\n\t\tTiempo necesario: 74.15811719699923\n"
     ]
    },
    {
     "name": "stdout",
     "output_type": "stream",
     "text": [
      "\tNum_individuos=100 ,num_generaciones=1000\n\t\tTasa de aciertos: 0.7894736842105263\n\t\tMejor fitness: 0.7683284457478006\n\t\tTiempo necesario: 159.47875540199857\n"
     ]
    },
    {
     "name": "stdout",
     "output_type": "stream",
     "text": [
      "\tNum_individuos=200 ,num_generaciones=100\n\t\tTasa de aciertos: 0.6535087719298245\n\t\tMejor fitness: 0.7272727272727273\n\t\tTiempo necesario: 25.598533891999978\n"
     ]
    },
    {
     "name": "stdout",
     "output_type": "stream",
     "text": [
      "\tNum_individuos=200 ,num_generaciones=500\n\t\tTasa de aciertos: 0.6578947368421053\n\t\tMejor fitness: 0.7624633431085044\n\t\tTiempo necesario: 68.58804287800012\n"
     ]
    }
   ],
   "source": [
    "from timeit import default_timer as timer\n",
    "\n",
    "from ClasificadorAG import ClasificadorAG\n",
    "from Datos import Datos\n",
    "from ValidacionSimple import ValidacionSimple\n",
    "\n",
    "ag = ClasificadorAG()\n",
    "val = ValidacionSimple(60)\n",
    "\n",
    "conjuntos_de_datos = ['example1', 'example3', 'example4', 'wdbc']\n",
    "num_individuos_list = [100, 200]\n",
    "num_generaciones_list = [100, 500, 1000]\n",
    "\n",
    "for nombre_fichero in conjuntos_de_datos:\n",
    "    datos = Datos('ConjuntosDatos/' + nombre_fichero + '.data')\n",
    "    val.creaParticiones(datos.datos)\n",
    "    \n",
    "    print(nombre_fichero, \":\", sep='')\n",
    "    for num_individuos in num_individuos_list:\n",
    "        for num_generaciones in num_generaciones_list:\n",
    "            start = timer()\n",
    "            errores, tasa_de_error = ag.validacion(val, datos, ag, num_generaciones, num_individuos)\n",
    "            \n",
    "            print(\"\\tNum_individuos=\", num_individuos, \" ,num_generaciones=\", num_generaciones, sep='')\n",
    "            print(\"\\t\\tTasa de aciertos:\", 1 - tasa_de_error)\n",
    "            print(\"\\t\\tMejor fitness:\", ag.stats[-1, -1])\n",
    "            print(\"\\t\\tTiempo necesario:\", timer() - start)\n"
   ]
  },
  {
   "cell_type": "code",
   "execution_count": null,
   "metadata": {},
   "outputs": [],
   "source": []
  }
 ],
 "metadata": {
  "kernelspec": {
   "display_name": "Python 2",
   "language": "python",
   "name": "python2"
  },
  "language_info": {
   "codemirror_mode": {
    "name": "ipython",
    "version": 2
   },
   "file_extension": ".py",
   "mimetype": "text/x-python",
   "name": "python",
   "nbconvert_exporter": "python",
   "pygments_lexer": "ipython2",
   "version": "2.7.6"
  }
 },
 "nbformat": 4,
 "nbformat_minor": 0
}
